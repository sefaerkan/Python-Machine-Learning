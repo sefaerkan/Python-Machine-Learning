{
 "cells": [
  {
   "cell_type": "code",
   "execution_count": 2,
   "id": "e8a25795",
   "metadata": {},
   "outputs": [],
   "source": [
    "# Çoklu Doğrusal Regresyon Modeli ( Multiple Linear Regression )"
   ]
  },
  {
   "cell_type": "code",
   "execution_count": 4,
   "id": "c9d9ebfc",
   "metadata": {},
   "outputs": [],
   "source": [
    "import numpy as np\n",
    "import pandas as pd\n",
    "import matplotlib.pyplot as plt\n",
    "import seaborn as sns\n",
    "from sklearn.linear_model import LinearRegression\n",
    "from sklearn.metrics import mean_squared_error, mean_absolute_error\n",
    "from sklearn.model_selection import train_test_split, cross_val_score\n",
    "\n",
    "pd.set_option(\"display.float_format\", lambda x: \"%.2f\" % x)\n",
    "\n",
    "df = pd.read_csv(\"advertising.csv\")"
   ]
  },
  {
   "cell_type": "code",
   "execution_count": 5,
   "id": "65bd737a",
   "metadata": {},
   "outputs": [],
   "source": [
    "# Burada yapacağımız işlem diğer bağımsız değişkenleri de kullanarak bir regresyon modeli kurmak"
   ]
  },
  {
   "cell_type": "code",
   "execution_count": 6,
   "id": "f4b650ec",
   "metadata": {},
   "outputs": [],
   "source": [
    "X = df.drop(\"Sales\",axis=1) # Bağımsız Değişkenler"
   ]
  },
  {
   "cell_type": "code",
   "execution_count": 7,
   "id": "20414fcb",
   "metadata": {},
   "outputs": [],
   "source": [
    "y = df[[\"Sales\"]] # Bağımlı Değişken"
   ]
  },
  {
   "cell_type": "code",
   "execution_count": 9,
   "id": "a112daf5",
   "metadata": {},
   "outputs": [],
   "source": [
    "# Model\n",
    "X_train, X_test, y_train, y_test = train_test_split(X,y,test_size=.20,random_state=1)\n",
    "\n",
    "# Bağımsız değişkenleri al, ayırdığım bağımlı değişkeni de al, test setinin boyutunu %20, train seti de %80 yaparak\n",
    "# rastgele bir örneklem oluştur.\n",
    "\n",
    "# Veri setinin %80'i train, %20'si test verisi olacak şekilde ayrıldı\n",
    "\n",
    "# Train seti ile model kuracaktık, test seti ile de test edeceğiz"
   ]
  },
  {
   "cell_type": "code",
   "execution_count": 11,
   "id": "ae04df42",
   "metadata": {},
   "outputs": [],
   "source": [
    "reg_model = LinearRegression().fit(X_train,y_train)"
   ]
  },
  {
   "cell_type": "code",
   "execution_count": 12,
   "id": "38d25e44",
   "metadata": {},
   "outputs": [
    {
     "data": {
      "text/plain": [
       "4.637624442397918"
      ]
     },
     "execution_count": 12,
     "metadata": {},
     "output_type": "execute_result"
    }
   ],
   "source": [
    "# Sabit (b-bias)\n",
    "reg_model.intercept_[0]"
   ]
  },
  {
   "cell_type": "code",
   "execution_count": 14,
   "id": "24eb9a1a",
   "metadata": {},
   "outputs": [
    {
     "data": {
      "text/plain": [
       "array([ 0.05507865,  0.10308563, -0.00090115])"
      ]
     },
     "execution_count": 14,
     "metadata": {},
     "output_type": "execute_result"
    }
   ],
   "source": [
    "# Katsayı (w- weights)\n",
    "reg_model.coef_[0]"
   ]
  },
  {
   "cell_type": "code",
   "execution_count": 15,
   "id": "9c8dc25d",
   "metadata": {},
   "outputs": [],
   "source": [
    "# Tahmin İşlemleri"
   ]
  },
  {
   "cell_type": "code",
   "execution_count": 16,
   "id": "5741b269",
   "metadata": {},
   "outputs": [
    {
     "data": {
      "text/plain": [
       "6.289983908376429"
      ]
     },
     "execution_count": 16,
     "metadata": {},
     "output_type": "execute_result"
    }
   ],
   "source": [
    "# 30 tane tv satışı için değer tahmini\n",
    "reg_model.intercept_[0] + reg_model.coef_[0][0]*30"
   ]
  },
  {
   "cell_type": "code",
   "execution_count": 17,
   "id": "cf648871",
   "metadata": {},
   "outputs": [
    {
     "data": {
      "text/plain": [
       "5.66848076667957"
      ]
     },
     "execution_count": 17,
     "metadata": {},
     "output_type": "execute_result"
    }
   ],
   "source": [
    "# 10 tane radio satışı için değer tahmini\n",
    "reg_model.intercept_[0] + reg_model.coef_[0][1]*10"
   ]
  },
  {
   "cell_type": "code",
   "execution_count": 18,
   "id": "db8d8820",
   "metadata": {},
   "outputs": [
    {
     "data": {
      "text/plain": [
       "4.601578560026547"
      ]
     },
     "execution_count": 18,
     "metadata": {},
     "output_type": "execute_result"
    }
   ],
   "source": [
    "# 40 tane newspaper satışı için değer tahmini\n",
    "reg_model.intercept_[0] + reg_model.coef_[0][2]*40"
   ]
  },
  {
   "cell_type": "code",
   "execution_count": 27,
   "id": "f08cd22d",
   "metadata": {},
   "outputs": [
    {
     "data": {
      "text/plain": [
       "7.28479435028671"
      ]
     },
     "execution_count": 27,
     "metadata": {},
     "output_type": "execute_result"
    }
   ],
   "source": [
    "# Denklem = Sales\n",
    "reg_model.intercept_[0] + reg_model.coef_[0][0]*30 + reg_model.coef_[0][1]*10 + reg_model.coef_[0][2]*40"
   ]
  },
  {
   "cell_type": "code",
   "execution_count": 20,
   "id": "b2e5169e",
   "metadata": {},
   "outputs": [],
   "source": [
    "yeni_veri = [[30],[10],[40]]\n",
    "yeni_veri = pd.DataFrame(yeni_veri).T"
   ]
  },
  {
   "cell_type": "code",
   "execution_count": 21,
   "id": "06ec525a",
   "metadata": {
    "collapsed": true
   },
   "outputs": [
    {
     "name": "stderr",
     "output_type": "stream",
     "text": [
      "C:\\Users\\sefa.erkan\\AppData\\Local\\anaconda3\\lib\\site-packages\\sklearn\\base.py:420: UserWarning: X does not have valid feature names, but LinearRegression was fitted with feature names\n",
      "  warnings.warn(\n"
     ]
    },
    {
     "data": {
      "text/plain": [
       "array([[7.28479435]])"
      ]
     },
     "execution_count": 21,
     "metadata": {},
     "output_type": "execute_result"
    }
   ],
   "source": [
    "reg_model.predict(yeni_veri)"
   ]
  },
  {
   "cell_type": "code",
   "execution_count": 28,
   "id": "232825bb",
   "metadata": {},
   "outputs": [],
   "source": [
    "# Tahmin Başarısını Değerlendirme"
   ]
  },
  {
   "cell_type": "code",
   "execution_count": 29,
   "id": "3e2c9f98",
   "metadata": {},
   "outputs": [
    {
     "data": {
      "text/plain": [
       "1.670441324568007"
      ]
     },
     "execution_count": 29,
     "metadata": {},
     "output_type": "execute_result"
    }
   ],
   "source": [
    "# Train RMSE\n",
    "y_pred = reg_model.predict(X_train)\n",
    "np.sqrt(mean_squared_error(y_train,y_pred))"
   ]
  },
  {
   "cell_type": "code",
   "execution_count": 31,
   "id": "7e0c9f3d",
   "metadata": {},
   "outputs": [
    {
     "data": {
      "text/plain": [
       "0.905486333977187"
      ]
     },
     "execution_count": 31,
     "metadata": {},
     "output_type": "execute_result"
    }
   ],
   "source": [
    "# Train RKARE\n",
    "reg_model.score(X_train,y_train) # Bağımsız değişkenlerin bağımlı değişkeni açıklama yüzdesidir."
   ]
  },
  {
   "cell_type": "code",
   "execution_count": 33,
   "id": "9dbb75ed",
   "metadata": {},
   "outputs": [
    {
     "data": {
      "text/plain": [
       "1.5522028259516758"
      ]
     },
     "execution_count": 33,
     "metadata": {},
     "output_type": "execute_result"
    }
   ],
   "source": [
    "# Test RMSE\n",
    "y_pred = reg_model.predict(X_test)\n",
    "np.sqrt(mean_squared_error(y_test,y_pred))"
   ]
  },
  {
   "cell_type": "code",
   "execution_count": 34,
   "id": "c6dcefe3",
   "metadata": {},
   "outputs": [
    {
     "data": {
      "text/plain": [
       "0.8747226291661847"
      ]
     },
     "execution_count": 34,
     "metadata": {},
     "output_type": "execute_result"
    }
   ],
   "source": [
    "# Test RKARE\n",
    "reg_model.score(X_test,y_test)"
   ]
  },
  {
   "cell_type": "code",
   "execution_count": 35,
   "id": "6ca30e47",
   "metadata": {},
   "outputs": [
    {
     "data": {
      "text/plain": [
       "1.6585021091625882"
      ]
     },
     "execution_count": 35,
     "metadata": {},
     "output_type": "execute_result"
    }
   ],
   "source": [
    "# 10 katlı CV (cross-validation) RMSE\n",
    "np.mean(np.sqrt(-cross_val_score(reg_model,X,y,cv=10,scoring=\"neg_mean_squared_error\")))\n",
    "\n",
    "# Bu kod parçası, doğrusal regresyon modelinin çapraz doğrulama kullanarak performansını değerlendirmek için kullanılır. "
   ]
  },
  {
   "cell_type": "code",
   "execution_count": 36,
   "id": "b39e7e2e",
   "metadata": {},
   "outputs": [
    {
     "data": {
      "text/plain": [
       "1.6657702460059212"
      ]
     },
     "execution_count": 36,
     "metadata": {},
     "output_type": "execute_result"
    }
   ],
   "source": [
    "# 5 katlı CV RMSE -> Çarpraz Doğrulama\n",
    "np.mean(np.sqrt(-cross_val_score(reg_model,X,y,cv=5,scoring=\"neg_mean_squared_error\")))"
   ]
  }
 ],
 "metadata": {
  "kernelspec": {
   "display_name": "Python 3 (ipykernel)",
   "language": "python",
   "name": "python3"
  },
  "language_info": {
   "codemirror_mode": {
    "name": "ipython",
    "version": 3
   },
   "file_extension": ".py",
   "mimetype": "text/x-python",
   "name": "python",
   "nbconvert_exporter": "python",
   "pygments_lexer": "ipython3",
   "version": "3.10.9"
  }
 },
 "nbformat": 4,
 "nbformat_minor": 5
}
