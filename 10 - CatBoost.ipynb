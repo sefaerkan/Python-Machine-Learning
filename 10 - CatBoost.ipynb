{
 "cells": [
  {
   "cell_type": "code",
   "execution_count": 1,
   "id": "aa9b4e91",
   "metadata": {},
   "outputs": [],
   "source": [
    "# CatBoost\n",
    "# Kategorik değişkenler ile otomotik olarak mücadele edebilen, hızlı, başarılı bir diğer GBM türevi.\n",
    "\n",
    "import warnings\n",
    "import numpy as np\n",
    "import pandas as pd\n",
    "import seaborn as sns\n",
    "from matplotlib import pyplot as plt\n",
    "from sklearn.ensemble import RandomForestClassifier, GradientBoostingClassifier, VotingClassifier\n",
    "from sklearn.model_selection import GridSearchCV, cross_validate, RandomizedSearchCV, validation_curve\n",
    "\n",
    "#from xgboost import XGBClassifier\n",
    "#from lightgbm import LGBMClassifier\n",
    "#from catboost import CatBoostClassifier\n",
    "\n",
    "pd.set_option(\"display.max_columns\",None)\n",
    "warnings.simplefilter(action=\"ignore\", category=Warning)\n",
    "\n",
    "df = pd.read_csv(\"diabetes.csv\")\n",
    "y = df[\"Outcome\"]\n",
    "X = df.drop([\"Outcome\"], axis=1)"
   ]
  },
  {
   "cell_type": "code",
   "execution_count": null,
   "id": "ff34e271",
   "metadata": {},
   "outputs": [],
   "source": [
    "catboost_model = CatBoostClassifier(random_state=17, verbose=False)"
   ]
  },
  {
   "cell_type": "code",
   "execution_count": null,
   "id": "206ce8f2",
   "metadata": {},
   "outputs": [],
   "source": [
    "# Hiperparametre Optimizasyonu\n",
    "\n",
    "# Kullanılacak parametre kombinasyonlarını belirlemek için kullanılır.\n",
    "catboost_params = {\"iterations\":[200,500],\n",
    "                   \"learning_rate\":[0.01, 0.1],\n",
    "                   \"depth\":[3, 6]}\n",
    "\n",
    "catboost_best_grid = GridSearchCV(catboost_model, catboost_params, cv=5, n_jobs=-1, verbose=True).fit(X,y)\n",
    "\n",
    "# En iyi değişkenler\n",
    "catboost_best_grid.best_params_"
   ]
  },
  {
   "cell_type": "code",
   "execution_count": null,
   "id": "5dccd2fa",
   "metadata": {},
   "outputs": [],
   "source": [
    "# Final model\n",
    "catboost_final = catboost_model.set_params(**catboost_best_grid.best_params_, random_state=17).fit(X,y)"
   ]
  }
 ],
 "metadata": {
  "kernelspec": {
   "display_name": "Python 3 (ipykernel)",
   "language": "python",
   "name": "python3"
  },
  "language_info": {
   "codemirror_mode": {
    "name": "ipython",
    "version": 3
   },
   "file_extension": ".py",
   "mimetype": "text/x-python",
   "name": "python",
   "nbconvert_exporter": "python",
   "pygments_lexer": "ipython3",
   "version": "3.10.9"
  }
 },
 "nbformat": 4,
 "nbformat_minor": 5
}
