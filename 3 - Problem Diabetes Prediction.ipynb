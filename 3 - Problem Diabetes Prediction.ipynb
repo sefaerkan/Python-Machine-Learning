{
 "cells": [
  {
   "cell_type": "code",
   "execution_count": 1,
   "id": "239d9632",
   "metadata": {},
   "outputs": [],
   "source": [
    "# Problem\n",
    "# Özellikleri belirtildiğinde kişilerin diyabet hastası olup olmadıklarını tahmin edebilecek bir makine öğrenmesi\n",
    "# modeli geliştirilmesi istenmektedir.\n",
    "\n",
    "\n",
    "# Veri seti ABD'deki Ulusal Diyabet-Sindirim-Böbrek Hastalıkları Enstitüleri'nde tutulan büyük veri setinin parçasıdır.\n",
    "# ABD'deki Arizona Eyaleti'nin en büyük 5. şehri olan Phoenix şehrinde yaşayan 21 yaş ve üzerinde olan Pima Indian kadınları\n",
    "# üzerinde yapılan diyabet araştırması için kullanılan verilerdir. 768 gözlem ve 8 sayısal bağımsız değişkenden oluşmaktadır.\n",
    "# Hedef değişken \"outcome\" olarak belirtilmiş olup; 1 diyabet test sonucunun pozitif oluşunu,\n",
    "# 0 ise negatif oluşunu belirtmektedir.\n",
    "\n",
    "# Pregnancies: Hamilelik sayısı\n",
    "# Glucose: Glikoz\n",
    "# BloodPressure: Kan basıncı (Diastolic(Küçük Tansiyon))\n",
    "# SkinThickness: Cilt Kalınlığı\n",
    "# Insulin: İnsülin.\n",
    "# BMI: Beden kitle indeksi.\n",
    "# DiabetesPedigreeFunction: Soyumuzdaki kişilere göre diyabet olma ihtimalimizi hesaplayan bir fonksiyon.\n",
    "# Age: Yaş (yıl)\n",
    "# Outcome: Kişinin diyabet olup olmadığı bilgisi. Hastalığa sahip (1) ya da değil (0)"
   ]
  },
  {
   "cell_type": "code",
   "execution_count": 1,
   "id": "ea333cd8",
   "metadata": {},
   "outputs": [],
   "source": [
    "import numpy as np\n",
    "import pandas as pd\n",
    "import seaborn as sns\n",
    "import matplotlib.pyplot as plt\n",
    "from sklearn.preprocessing import RobustScaler\n",
    "from sklearn.linear_model import LogisticRegression\n",
    "from sklearn.metrics import accuracy_score, roc_auc_score, confusion_matrix, classification_report\n",
    "from sklearn.model_selection import train_test_split, cross_validate\n",
    "\n",
    "pd.set_option(\"display.max_columns\",None)\n",
    "pd.set_option(\"display.float_format\",lambda x: '%.3f' % x)\n",
    "pd.set_option(\"display.width\",500)"
   ]
  },
  {
   "cell_type": "code",
   "execution_count": 2,
   "id": "b198db9b",
   "metadata": {},
   "outputs": [],
   "source": [
    "# quantile bir veri kümesinin belirli yüzdelik dilimlerine karşılık gelen değerleri hesaplamak için kullanılır.\n",
    "def outlier_tresholds(df,col_name,q1=.05,q3=.95):\n",
    "    quartile1 = df[col_name].quantile(q1) \n",
    "    quartile3 = df[col_name].quantile(q3)\n",
    "    interquantile_range = quartile3 - quartile1\n",
    "    up_limit = quartile3 + 1.5 * interquantile_range\n",
    "    low_limit = quartile1 - 1.5 * interquantile_range\n",
    "    return low_limit , up_limit\n",
    "\n",
    "# Belirli bir sütunun aykırı değerler içerip içermediğini kontrol etmek için kullanılır.\n",
    "def check_outlier(df,col_name):\n",
    "    low_limit, up_limit = outlier_tresholds(df,col_name)\n",
    "    if df[(df[col_name] > up_limit) | (df[col_name] < low_limit)].any(axis=None):\n",
    "        return True\n",
    "    else:\n",
    "        return False\n",
    "    \n",
    "# Veri çerçevesindeki belirli bir değişken için aykırı değerleri alt ve üst sınırlarla değiştirmek için kullanılır.    \n",
    "def replace_with_thresholds(df,variable,q1=.05,q3=.95):\n",
    "    low_limit, up_limit = outlier_tresholds(df,variable,q1=.05,q3=.95)\n",
    "    df.loc[(df[variable]<low_limit),variable] = low_limit\n",
    "    df.loc[(df[variable]>up_limit),variable] = up_limit  "
   ]
  },
  {
   "cell_type": "code",
   "execution_count": 8,
   "id": "efaaaa6f",
   "metadata": {},
   "outputs": [],
   "source": [
    "######################################################\n",
    "# 1 - KEŞİFCİ VERİ ANALİZİ (Exploratory Data Analysis)\n",
    "######################################################"
   ]
  },
  {
   "cell_type": "code",
   "execution_count": 3,
   "id": "43a51e6c",
   "metadata": {},
   "outputs": [],
   "source": [
    "df = pd.read_csv(\"diabetes.csv\")"
   ]
  },
  {
   "cell_type": "code",
   "execution_count": 4,
   "id": "6a8d8036",
   "metadata": {
    "collapsed": true
   },
   "outputs": [
    {
     "data": {
      "text/plain": [
       "0    500\n",
       "1    268\n",
       "Name: Outcome, dtype: int64"
      ]
     },
     "execution_count": 4,
     "metadata": {},
     "output_type": "execute_result"
    }
   ],
   "source": [
    "# Target Analizi\n",
    "################\n",
    "\n",
    "# Kaç tane var\n",
    "df[\"Outcome\"].value_counts()"
   ]
  },
  {
   "cell_type": "code",
   "execution_count": 5,
   "id": "7960d6bc",
   "metadata": {
    "collapsed": true
   },
   "outputs": [
    {
     "data": {
      "text/plain": [
       "0   65.104\n",
       "1   34.896\n",
       "Name: Outcome, dtype: float64"
      ]
     },
     "execution_count": 5,
     "metadata": {},
     "output_type": "execute_result"
    }
   ],
   "source": [
    "# Değer oranları\n",
    "100 * df[\"Outcome\"].value_counts() / len(df)"
   ]
  },
  {
   "cell_type": "code",
   "execution_count": 6,
   "id": "c2b7c800",
   "metadata": {
    "collapsed": true
   },
   "outputs": [
    {
     "data": {
      "text/html": [
       "<div>\n",
       "<style scoped>\n",
       "    .dataframe tbody tr th:only-of-type {\n",
       "        vertical-align: middle;\n",
       "    }\n",
       "\n",
       "    .dataframe tbody tr th {\n",
       "        vertical-align: top;\n",
       "    }\n",
       "\n",
       "    .dataframe thead th {\n",
       "        text-align: right;\n",
       "    }\n",
       "</style>\n",
       "<table border=\"1\" class=\"dataframe\">\n",
       "  <thead>\n",
       "    <tr style=\"text-align: right;\">\n",
       "      <th></th>\n",
       "      <th>count</th>\n",
       "      <th>mean</th>\n",
       "      <th>std</th>\n",
       "      <th>min</th>\n",
       "      <th>25%</th>\n",
       "      <th>50%</th>\n",
       "      <th>75%</th>\n",
       "      <th>max</th>\n",
       "    </tr>\n",
       "  </thead>\n",
       "  <tbody>\n",
       "    <tr>\n",
       "      <th>Pregnancies</th>\n",
       "      <td>768.000</td>\n",
       "      <td>3.845</td>\n",
       "      <td>3.370</td>\n",
       "      <td>0.000</td>\n",
       "      <td>1.000</td>\n",
       "      <td>3.000</td>\n",
       "      <td>6.000</td>\n",
       "      <td>17.000</td>\n",
       "    </tr>\n",
       "    <tr>\n",
       "      <th>Glucose</th>\n",
       "      <td>768.000</td>\n",
       "      <td>120.895</td>\n",
       "      <td>31.973</td>\n",
       "      <td>0.000</td>\n",
       "      <td>99.000</td>\n",
       "      <td>117.000</td>\n",
       "      <td>140.250</td>\n",
       "      <td>199.000</td>\n",
       "    </tr>\n",
       "    <tr>\n",
       "      <th>BloodPressure</th>\n",
       "      <td>768.000</td>\n",
       "      <td>69.105</td>\n",
       "      <td>19.356</td>\n",
       "      <td>0.000</td>\n",
       "      <td>62.000</td>\n",
       "      <td>72.000</td>\n",
       "      <td>80.000</td>\n",
       "      <td>122.000</td>\n",
       "    </tr>\n",
       "    <tr>\n",
       "      <th>SkinThickness</th>\n",
       "      <td>768.000</td>\n",
       "      <td>20.536</td>\n",
       "      <td>15.952</td>\n",
       "      <td>0.000</td>\n",
       "      <td>0.000</td>\n",
       "      <td>23.000</td>\n",
       "      <td>32.000</td>\n",
       "      <td>99.000</td>\n",
       "    </tr>\n",
       "    <tr>\n",
       "      <th>Insulin</th>\n",
       "      <td>768.000</td>\n",
       "      <td>79.799</td>\n",
       "      <td>115.244</td>\n",
       "      <td>0.000</td>\n",
       "      <td>0.000</td>\n",
       "      <td>30.500</td>\n",
       "      <td>127.250</td>\n",
       "      <td>846.000</td>\n",
       "    </tr>\n",
       "    <tr>\n",
       "      <th>BMI</th>\n",
       "      <td>768.000</td>\n",
       "      <td>31.993</td>\n",
       "      <td>7.884</td>\n",
       "      <td>0.000</td>\n",
       "      <td>27.300</td>\n",
       "      <td>32.000</td>\n",
       "      <td>36.600</td>\n",
       "      <td>67.100</td>\n",
       "    </tr>\n",
       "    <tr>\n",
       "      <th>DiabetesPedigreeFunction</th>\n",
       "      <td>768.000</td>\n",
       "      <td>0.472</td>\n",
       "      <td>0.331</td>\n",
       "      <td>0.078</td>\n",
       "      <td>0.244</td>\n",
       "      <td>0.372</td>\n",
       "      <td>0.626</td>\n",
       "      <td>2.420</td>\n",
       "    </tr>\n",
       "    <tr>\n",
       "      <th>Age</th>\n",
       "      <td>768.000</td>\n",
       "      <td>33.241</td>\n",
       "      <td>11.760</td>\n",
       "      <td>21.000</td>\n",
       "      <td>24.000</td>\n",
       "      <td>29.000</td>\n",
       "      <td>41.000</td>\n",
       "      <td>81.000</td>\n",
       "    </tr>\n",
       "    <tr>\n",
       "      <th>Outcome</th>\n",
       "      <td>768.000</td>\n",
       "      <td>0.349</td>\n",
       "      <td>0.477</td>\n",
       "      <td>0.000</td>\n",
       "      <td>0.000</td>\n",
       "      <td>0.000</td>\n",
       "      <td>1.000</td>\n",
       "      <td>1.000</td>\n",
       "    </tr>\n",
       "  </tbody>\n",
       "</table>\n",
       "</div>"
      ],
      "text/plain": [
       "                           count    mean     std    min    25%     50%     75%     max\n",
       "Pregnancies              768.000   3.845   3.370  0.000  1.000   3.000   6.000  17.000\n",
       "Glucose                  768.000 120.895  31.973  0.000 99.000 117.000 140.250 199.000\n",
       "BloodPressure            768.000  69.105  19.356  0.000 62.000  72.000  80.000 122.000\n",
       "SkinThickness            768.000  20.536  15.952  0.000  0.000  23.000  32.000  99.000\n",
       "Insulin                  768.000  79.799 115.244  0.000  0.000  30.500 127.250 846.000\n",
       "BMI                      768.000  31.993   7.884  0.000 27.300  32.000  36.600  67.100\n",
       "DiabetesPedigreeFunction 768.000   0.472   0.331  0.078  0.244   0.372   0.626   2.420\n",
       "Age                      768.000  33.241  11.760 21.000 24.000  29.000  41.000  81.000\n",
       "Outcome                  768.000   0.349   0.477  0.000  0.000   0.000   1.000   1.000"
      ]
     },
     "execution_count": 6,
     "metadata": {},
     "output_type": "execute_result"
    }
   ],
   "source": [
    "# Feature'ların(Bağımsız Değişkenler) Analizi\n",
    "df.describe().T"
   ]
  },
  {
   "cell_type": "code",
   "execution_count": 7,
   "id": "600e60f0",
   "metadata": {
    "collapsed": true
   },
   "outputs": [
    {
     "data": {
      "text/html": [
       "<div>\n",
       "<style scoped>\n",
       "    .dataframe tbody tr th:only-of-type {\n",
       "        vertical-align: middle;\n",
       "    }\n",
       "\n",
       "    .dataframe tbody tr th {\n",
       "        vertical-align: top;\n",
       "    }\n",
       "\n",
       "    .dataframe thead th {\n",
       "        text-align: right;\n",
       "    }\n",
       "</style>\n",
       "<table border=\"1\" class=\"dataframe\">\n",
       "  <thead>\n",
       "    <tr style=\"text-align: right;\">\n",
       "      <th></th>\n",
       "      <th>Pregnancies</th>\n",
       "    </tr>\n",
       "    <tr>\n",
       "      <th>Outcome</th>\n",
       "      <th></th>\n",
       "    </tr>\n",
       "  </thead>\n",
       "  <tbody>\n",
       "    <tr>\n",
       "      <th>0</th>\n",
       "      <td>3.298</td>\n",
       "    </tr>\n",
       "    <tr>\n",
       "      <th>1</th>\n",
       "      <td>4.866</td>\n",
       "    </tr>\n",
       "  </tbody>\n",
       "</table>\n",
       "</div>"
      ],
      "text/plain": [
       "         Pregnancies\n",
       "Outcome             \n",
       "0              3.298\n",
       "1              4.866"
      ]
     },
     "execution_count": 7,
     "metadata": {},
     "output_type": "execute_result"
    }
   ],
   "source": [
    "# Target vs Features\n",
    "\n",
    "# Diyabet olanların hamilelik ortalaması\n",
    "df.groupby(\"Outcome\").agg({\"Pregnancies\":\"mean\"})"
   ]
  },
  {
   "cell_type": "code",
   "execution_count": 8,
   "id": "198e9e30",
   "metadata": {
    "collapsed": true
   },
   "outputs": [
    {
     "name": "stdout",
     "output_type": "stream",
     "text": [
      "         Pregnancies\n",
      "Outcome             \n",
      "0              3.298\n",
      "1              4.866\n",
      "\n",
      "\n",
      "         Glucose\n",
      "Outcome         \n",
      "0        109.980\n",
      "1        141.257\n",
      "\n",
      "\n",
      "         BloodPressure\n",
      "Outcome               \n",
      "0               68.184\n",
      "1               70.825\n",
      "\n",
      "\n",
      "         SkinThickness\n",
      "Outcome               \n",
      "0               19.664\n",
      "1               22.164\n",
      "\n",
      "\n",
      "         Insulin\n",
      "Outcome         \n",
      "0         68.792\n",
      "1        100.336\n",
      "\n",
      "\n",
      "           BMI\n",
      "Outcome       \n",
      "0       30.304\n",
      "1       35.143\n",
      "\n",
      "\n",
      "         DiabetesPedigreeFunction\n",
      "Outcome                          \n",
      "0                           0.430\n",
      "1                           0.550\n",
      "\n",
      "\n",
      "           Age\n",
      "Outcome       \n",
      "0       31.190\n",
      "1       37.067\n",
      "\n",
      "\n",
      "         Outcome\n",
      "Outcome         \n",
      "0          0.000\n",
      "1          1.000\n",
      "\n",
      "\n"
     ]
    }
   ],
   "source": [
    "# Fonksiyon yazıp tüm değişkenlere göre ortalama baktık\n",
    "def target_summary_with_num(df,target,num_col):\n",
    "    print(df.groupby(target).agg({num_col:\"mean\"}),end=\"\\n\\n\\n\")\n",
    "    \n",
    "for col in df.columns:\n",
    "    target_summary_with_num(df,\"Outcome\",col)"
   ]
  },
  {
   "cell_type": "code",
   "execution_count": 22,
   "id": "103c6491",
   "metadata": {},
   "outputs": [],
   "source": [
    "#####################################\n",
    "# Veri Ön İşleme (Data Preprocessing)\n",
    "#####################################"
   ]
  },
  {
   "cell_type": "code",
   "execution_count": 9,
   "id": "a3fa5abb",
   "metadata": {
    "collapsed": true
   },
   "outputs": [
    {
     "data": {
      "text/plain": [
       "Pregnancies                 0\n",
       "Glucose                     0\n",
       "BloodPressure               0\n",
       "SkinThickness               0\n",
       "Insulin                     0\n",
       "BMI                         0\n",
       "DiabetesPedigreeFunction    0\n",
       "Age                         0\n",
       "Outcome                     0\n",
       "dtype: int64"
      ]
     },
     "execution_count": 9,
     "metadata": {},
     "output_type": "execute_result"
    }
   ],
   "source": [
    "# Boş değerler\n",
    "df.isnull().sum()"
   ]
  },
  {
   "cell_type": "code",
   "execution_count": 10,
   "id": "e5abed10",
   "metadata": {
    "collapsed": true
   },
   "outputs": [
    {
     "name": "stdout",
     "output_type": "stream",
     "text": [
      "Pregnancies False\n",
      "Glucose False\n",
      "BloodPressure False\n",
      "SkinThickness False\n",
      "Insulin True\n",
      "BMI False\n",
      "DiabetesPedigreeFunction False\n",
      "Age False\n",
      "Outcome False\n"
     ]
    }
   ],
   "source": [
    "# Aykırı değerler\n",
    "for col in df.columns:\n",
    "    print(col, check_outlier(df,col))    "
   ]
  },
  {
   "cell_type": "code",
   "execution_count": 11,
   "id": "bb530128",
   "metadata": {
    "collapsed": true
   },
   "outputs": [
    {
     "name": "stdout",
     "output_type": "stream",
     "text": [
      "Pregnancies False\n",
      "Glucose False\n",
      "BloodPressure False\n",
      "SkinThickness False\n",
      "Insulin False\n",
      "BMI False\n",
      "DiabetesPedigreeFunction False\n",
      "Age False\n",
      "Outcome False\n"
     ]
    }
   ],
   "source": [
    "# Sadece İnsülin değerlerinde aykırılık var onları değiştiriyoruz.\n",
    "replace_with_thresholds(df,\"Insulin\")\n",
    "\n",
    "for col in df.columns:\n",
    "    print(col, check_outlier(df,col)) # Çözüldü"
   ]
  },
  {
   "cell_type": "code",
   "execution_count": 12,
   "id": "e0c0e2f5",
   "metadata": {
    "collapsed": true
   },
   "outputs": [
    {
     "data": {
      "text/html": [
       "<div>\n",
       "<style scoped>\n",
       "    .dataframe tbody tr th:only-of-type {\n",
       "        vertical-align: middle;\n",
       "    }\n",
       "\n",
       "    .dataframe tbody tr th {\n",
       "        vertical-align: top;\n",
       "    }\n",
       "\n",
       "    .dataframe thead th {\n",
       "        text-align: right;\n",
       "    }\n",
       "</style>\n",
       "<table border=\"1\" class=\"dataframe\">\n",
       "  <thead>\n",
       "    <tr style=\"text-align: right;\">\n",
       "      <th></th>\n",
       "      <th>Pregnancies</th>\n",
       "      <th>Glucose</th>\n",
       "      <th>BloodPressure</th>\n",
       "      <th>SkinThickness</th>\n",
       "      <th>Insulin</th>\n",
       "      <th>BMI</th>\n",
       "      <th>DiabetesPedigreeFunction</th>\n",
       "      <th>Age</th>\n",
       "      <th>Outcome</th>\n",
       "    </tr>\n",
       "  </thead>\n",
       "  <tbody>\n",
       "    <tr>\n",
       "      <th>0</th>\n",
       "      <td>0.600</td>\n",
       "      <td>0.752</td>\n",
       "      <td>0.000</td>\n",
       "      <td>0.375</td>\n",
       "      <td>-0.240</td>\n",
       "      <td>0.172</td>\n",
       "      <td>0.665</td>\n",
       "      <td>1.235</td>\n",
       "      <td>1.000</td>\n",
       "    </tr>\n",
       "    <tr>\n",
       "      <th>1</th>\n",
       "      <td>-0.400</td>\n",
       "      <td>-0.776</td>\n",
       "      <td>-0.333</td>\n",
       "      <td>0.188</td>\n",
       "      <td>-0.240</td>\n",
       "      <td>-0.581</td>\n",
       "      <td>-0.056</td>\n",
       "      <td>0.118</td>\n",
       "      <td>0.000</td>\n",
       "    </tr>\n",
       "    <tr>\n",
       "      <th>2</th>\n",
       "      <td>1.000</td>\n",
       "      <td>1.600</td>\n",
       "      <td>-0.444</td>\n",
       "      <td>-0.719</td>\n",
       "      <td>-0.240</td>\n",
       "      <td>-0.935</td>\n",
       "      <td>0.783</td>\n",
       "      <td>0.176</td>\n",
       "      <td>1.000</td>\n",
       "    </tr>\n",
       "    <tr>\n",
       "      <th>3</th>\n",
       "      <td>-0.400</td>\n",
       "      <td>-0.679</td>\n",
       "      <td>-0.333</td>\n",
       "      <td>0.000</td>\n",
       "      <td>0.499</td>\n",
       "      <td>-0.419</td>\n",
       "      <td>-0.537</td>\n",
       "      <td>-0.471</td>\n",
       "      <td>0.000</td>\n",
       "    </tr>\n",
       "    <tr>\n",
       "      <th>4</th>\n",
       "      <td>-0.600</td>\n",
       "      <td>0.485</td>\n",
       "      <td>-1.778</td>\n",
       "      <td>0.375</td>\n",
       "      <td>1.081</td>\n",
       "      <td>1.194</td>\n",
       "      <td>5.008</td>\n",
       "      <td>0.235</td>\n",
       "      <td>1.000</td>\n",
       "    </tr>\n",
       "  </tbody>\n",
       "</table>\n",
       "</div>"
      ],
      "text/plain": [
       "   Pregnancies  Glucose  BloodPressure  SkinThickness  Insulin    BMI  DiabetesPedigreeFunction    Age  Outcome\n",
       "0        0.600    0.752          0.000          0.375   -0.240  0.172                     0.665  1.235    1.000\n",
       "1       -0.400   -0.776         -0.333          0.188   -0.240 -0.581                    -0.056  0.118    0.000\n",
       "2        1.000    1.600         -0.444         -0.719   -0.240 -0.935                     0.783  0.176    1.000\n",
       "3       -0.400   -0.679         -0.333          0.000    0.499 -0.419                    -0.537 -0.471    0.000\n",
       "4       -0.600    0.485         -1.778          0.375    1.081  1.194                     5.008  0.235    1.000"
      ]
     },
     "execution_count": 12,
     "metadata": {},
     "output_type": "execute_result"
    }
   ],
   "source": [
    "# Değişkenleri ölçeklemek (Scale etmek) -> Standartlaştırma\n",
    "for col in df.columns:\n",
    "    df[col] = RobustScaler().fit_transform(df[[col]]) \n",
    "# Bütün gözlem birim değerlerinden medyanı çıkarıp range değerine bölüyor.\n",
    "# Standart Scaleden farkı; Aykırı değerlerden etkilenmiyor.\n",
    "    \n",
    "df.head()"
   ]
  },
  {
   "cell_type": "code",
   "execution_count": 42,
   "id": "b9e50e54",
   "metadata": {},
   "outputs": [],
   "source": [
    "#############################\n",
    "# Model & Tahmin (Prediction)\n",
    "#############################"
   ]
  },
  {
   "cell_type": "code",
   "execution_count": 13,
   "id": "6b86e02b",
   "metadata": {},
   "outputs": [],
   "source": [
    "y = df[\"Outcome\"] # Bağımlı\n",
    "X = df.drop(\"Outcome\",axis=1) # Bağımsız"
   ]
  },
  {
   "cell_type": "code",
   "execution_count": 14,
   "id": "d218d5e6",
   "metadata": {},
   "outputs": [],
   "source": [
    "# Model kuruldu\n",
    "log_model = LogisticRegression().fit(X,y) \n",
    "\n",
    "# Fit yöntemi veri seti üzerinde lojistik regresyon modelini eğitir ve modelin X'e bağlı olarak y'yi tahmin etmesini sağlar.\n",
    "\n",
    "# Lojistik regresyon, sınıflandırma problemlerinde kullanılan bir makine öğrenmesi algoritmasıdır.\n",
    "# Genellikle, bağımlı değişkenin (y) iki kategoriden birine ait olup olmadığını tahmin etmek için kullanılır."
   ]
  },
  {
   "cell_type": "code",
   "execution_count": 15,
   "id": "082ce44e",
   "metadata": {
    "collapsed": true
   },
   "outputs": [
    {
     "data": {
      "text/plain": [
       "array([-1.23439588])"
      ]
     },
     "execution_count": 15,
     "metadata": {},
     "output_type": "execute_result"
    }
   ],
   "source": [
    "# Sabit\n",
    "log_model.intercept_"
   ]
  },
  {
   "cell_type": "code",
   "execution_count": 16,
   "id": "8de410ac",
   "metadata": {
    "collapsed": true
   },
   "outputs": [
    {
     "data": {
      "text/plain": [
       "array([[ 0.59906785,  1.41770936, -0.23152362,  0.01973855, -0.14571255,\n",
       "         0.81741997,  0.35522795,  0.25655154]])"
      ]
     },
     "execution_count": 16,
     "metadata": {},
     "output_type": "execute_result"
    }
   ],
   "source": [
    "# Kat sayılar\n",
    "log_model.coef_"
   ]
  },
  {
   "cell_type": "code",
   "execution_count": 17,
   "id": "06e19f77",
   "metadata": {},
   "outputs": [],
   "source": [
    "y_pred = log_model.predict(X) \n",
    "\n",
    "# Veri setindeki özellikleri (X) kullanarak bağımlı değişkeni (y) tahmin etmek için kullanılır.\n",
    "# Predict yöntemi, modeli veri seti üzerinde kullanarak bağımlı değişkenin tahmin edilen değerlerini döndürür."
   ]
  },
  {
   "cell_type": "code",
   "execution_count": 18,
   "id": "2a55e39b",
   "metadata": {
    "collapsed": true
   },
   "outputs": [
    {
     "data": {
      "text/plain": [
       "array([1., 0., 1., 0., 1., 0., 0., 1., 1., 0.])"
      ]
     },
     "execution_count": 18,
     "metadata": {},
     "output_type": "execute_result"
    }
   ],
   "source": [
    "# Tahmin edilen ilk on değer\n",
    "y_pred[0:10]"
   ]
  },
  {
   "cell_type": "code",
   "execution_count": 19,
   "id": "61bfa7be",
   "metadata": {
    "collapsed": true
   },
   "outputs": [
    {
     "data": {
      "image/png": "[encoded data removed]",
      "text/plain": [
       "<Figure size 640x480 with 2 Axes>"
      ]
     },
     "metadata": {},
     "output_type": "display_data"
    }
   ],
   "source": [
    "############################\n",
    "# Model Başarı Değerlendirme\n",
    "############################\n",
    "def plot_confusion_matrix(y,y_pred):\n",
    "    acc = round(accuracy_score(y,y_pred),2)\n",
    "    cm = confusion_matrix(y,y_pred)\n",
    "    sns.heatmap(cm,annot=True,fmt=\".0f\")\n",
    "    plt.xlabel(\"y_pred\")\n",
    "    plt.ylabel(\"y\")\n",
    "    plt.title(\"Accuracy Score: {0}\".format(acc), size=10)\n",
    "    plt.show\n",
    "\n",
    "# Bir sınıflandırma modelinin tahminlerinin gerçek değerlerle karşılaştırılması için\n",
    "# bir karmaşıklık matrisi (confusion matrix) çizmek için kullanılır.\n",
    "\n",
    "plot_confusion_matrix(y,y_pred)"
   ]
  },
  {
   "cell_type": "code",
   "execution_count": 20,
   "id": "14d4268b",
   "metadata": {
    "collapsed": true
   },
   "outputs": [
    {
     "name": "stdout",
     "output_type": "stream",
     "text": [
      "              precision    recall  f1-score   support\n",
      "\n",
      "         0.0       0.80      0.89      0.84       500\n",
      "         1.0       0.74      0.58      0.65       268\n",
      "\n",
      "    accuracy                           0.78       768\n",
      "   macro avg       0.77      0.74      0.75       768\n",
      "weighted avg       0.78      0.78      0.78       768\n",
      "\n"
     ]
    }
   ],
   "source": [
    "print(classification_report(y,y_pred))\n",
    "\n",
    "# Sınıflandırma modelinin performansını daha ayrıntılı bir şekilde değerlendirmek için kullanılır.\n",
    "# Bu rapor, modelin her bir sınıf için \n",
    "# hassasiyet (precision),\n",
    "# özgüllük (recall),\n",
    "# F1-score \n",
    "# destek (support) değerlerini gösterir.\n",
    "\n",
    "# accuracy: 0.78\n",
    "# precision: 0.74\n",
    "# recall: 0.58\n",
    "# f1-score: 0.65"
   ]
  },
  {
   "cell_type": "code",
   "execution_count": 21,
   "id": "7fd0cd67",
   "metadata": {
    "collapsed": true
   },
   "outputs": [
    {
     "data": {
      "text/plain": [
       "0.8393955223880598"
      ]
     },
     "execution_count": 21,
     "metadata": {},
     "output_type": "execute_result"
    }
   ],
   "source": [
    "# ROC AUC\n",
    "y_prob = log_model.predict_proba(X)[:,1]\n",
    "roc_auc_score(y,y_prob)\n",
    "# 0.83\n",
    "\n",
    "# Farklı classification treshold değerlerine göre oluşabilecek başarılarımıza yönelik genel bir metrik.\n",
    "# Lojistik regresyon modelinin ROC AUC skorunu hesaplar ve modelin sınıflandırma performansını değerlendirmek için kullanır.\n",
    "# ROC AUC skoru, sınıflandırma modelinin farklı eşik değerleri altında nasıl performans gösterdiğini gösterir."
   ]
  },
  {
   "cell_type": "code",
   "execution_count": 23,
   "id": "c85c6f22",
   "metadata": {},
   "outputs": [],
   "source": [
    "######################################\n",
    "# Model Doğrulama(Validation): Holdout\n",
    "######################################\n",
    "\n",
    "# Holdout model setini ikiye böl birisi ile modeli eğit birisi ile test et.\n",
    "\n",
    "X_train, X_test, y_train, y_test = train_test_split(X, y, test_size=.20, random_state=17)"
   ]
  },
  {
   "cell_type": "code",
   "execution_count": 29,
   "id": "2f104e99",
   "metadata": {},
   "outputs": [],
   "source": [
    "log_model = LogisticRegression().fit(X_train, y_train) # Modeli eğitiyoruz\n",
    "\n",
    "y_pred = log_model.predict(X_test) # Tahmin edilen değerler\n",
    "\n",
    "y_prob = log_model.predict_proba(X_test)[:, 1] # Ait olma olasılık değerleri"
   ]
  },
  {
   "cell_type": "code",
   "execution_count": 30,
   "id": "f2d8738a",
   "metadata": {
    "collapsed": true
   },
   "outputs": [
    {
     "name": "stdout",
     "output_type": "stream",
     "text": [
      "              precision    recall  f1-score   support\n",
      "\n",
      "         0.0       0.77      0.92      0.84        97\n",
      "         1.0       0.79      0.53      0.63        57\n",
      "\n",
      "    accuracy                           0.77       154\n",
      "   macro avg       0.78      0.72      0.73       154\n",
      "weighted avg       0.78      0.77      0.76       154\n",
      "\n"
     ]
    }
   ],
   "source": [
    "print(classification_report(y_test,y_pred))\n",
    "\n",
    "# Yeni değerler;\n",
    "# accuracy: 0.77\n",
    "# precision: 0.79\n",
    "# recall: 0.53\n",
    "# f1-score: 0.63\n",
    "\n",
    "# Önceki değerler; \n",
    "# accuracy: 0.78\n",
    "# precision: 0.74\n",
    "# recall: 0.58\n",
    "# f1-score: 0.65"
   ]
  },
  {
   "cell_type": "code",
   "execution_count": 32,
   "id": "b6a7e9e6",
   "metadata": {
    "collapsed": true
   },
   "outputs": [
    {
     "data": {
      "text/plain": [
       "0.8755652016639537"
      ]
     },
     "execution_count": 32,
     "metadata": {},
     "output_type": "execute_result"
    }
   ],
   "source": [
    "# AUC\n",
    "roc_auc_score(y_test,y_prob)"
   ]
  },
  {
   "cell_type": "code",
   "execution_count": 34,
   "id": "b283cbf3",
   "metadata": {},
   "outputs": [],
   "source": [
    "######################################################\n",
    "# 10 Katlı Çarpaz Doğrulama (10-Fold Cross Validation)\n",
    "######################################################\n",
    "\n",
    "# Modelin doğrulama sürecini en doğru şekilde ele alma.\n",
    "# Veri ilk olarak 10 parçaya ayrılır, 9 parçası ile model kurulur, 1 parçası ile model test edilir.\n",
    "# Model bu 10 parçada da olacak şekilde devam eder ve sonunda bütün test hatalarının ortlaması alınır.\n",
    "# Model böylece model veri setinin farklı parçaları ile modellenip, farklı parçaları ile test edilir,\n",
    "# bundan dolayı bazı senaryoları da barındırır.\n",
    "\n",
    "y = df[\"Outcome\"] # Bağımlı\n",
    "X = df.drop(\"Outcome\",axis=1) # Bağımsız\n",
    "\n",
    "log_model = LogisticRegression().fit(X, y) # Model kuruldu"
   ]
  },
  {
   "cell_type": "code",
   "execution_count": 35,
   "id": "7365593e",
   "metadata": {},
   "outputs": [],
   "source": [
    "cv_result = cross_validate(log_model, X, y, cv=5, scoring=[\"accuracy\",\"precision\",\"recall\",\"f1\",\"roc_auc\"])\n",
    "\n",
    "# 5 katlı bir cross validation\n",
    "# Başarı metriklerini getirir."
   ]
  },
  {
   "cell_type": "code",
   "execution_count": 43,
   "id": "3020f693",
   "metadata": {},
   "outputs": [
    {
     "data": {
      "text/plain": [
       "0.8327295597484277"
      ]
     },
     "execution_count": 43,
     "metadata": {},
     "output_type": "execute_result"
    }
   ],
   "source": [
    "# Ortalama Accuracy\n",
    "cv_result[\"test_accuracy\"].mean()\n",
    "# 0.7721925133689839\n",
    " \n",
    "cv_result[\"test_precision\"].mean()\n",
    "# 0.7192472060223519\n",
    "\n",
    "cv_result[\"test_recall\"].mean()\n",
    "# 0.5747030048916841\n",
    "\n",
    "cv_result[\"test_f1\"].mean()\n",
    "# 0.6371421090986309\n",
    "\n",
    "cv_result[\"test_roc_auc\"].mean()\n",
    "# 0.8327295597484277\n",
    "\n",
    "# Önceki işlemlerden değerler\n",
    "# accuracy: 0.77\n",
    "# precision: 0.79\n",
    "# recall: 0.53\n",
    "# f1-score: 0.63\n",
    "\n",
    "# accuracy: 0.78\n",
    "# precision: 0.74\n",
    "# recall: 0.58\n",
    "# f1-score: 0.65"
   ]
  },
  {
   "cell_type": "code",
   "execution_count": 45,
   "id": "08468a1f",
   "metadata": {},
   "outputs": [
    {
     "data": {
      "text/plain": [
       "array([1.])"
      ]
     },
     "execution_count": 45,
     "metadata": {},
     "output_type": "execute_result"
    }
   ],
   "source": [
    "# Rastgele bir veri aldık\n",
    "random_user = X.sample(1,random_state=45)\n",
    "\n",
    "log_model.predict(random_user)\n",
    "# Bu kişi diyabettir diye bir şey dedi\n",
    "# array([1.])"
   ]
  }
 ],
 "metadata": {
  "kernelspec": {
   "display_name": "Python 3 (ipykernel)",
   "language": "python",
   "name": "python3"
  },
  "language_info": {
   "codemirror_mode": {
    "name": "ipython",
    "version": 3
   },
   "file_extension": ".py",
   "mimetype": "text/x-python",
   "name": "python",
   "nbconvert_exporter": "python",
   "pygments_lexer": "ipython3",
   "version": "3.10.9"
  }
 },
 "nbformat": 4,
 "nbformat_minor": 5
}
