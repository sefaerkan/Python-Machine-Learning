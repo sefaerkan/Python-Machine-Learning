{
 "cells": [
  {
   "cell_type": "code",
   "execution_count": 3,
   "id": "55cab436",
   "metadata": {},
   "outputs": [],
   "source": [
    "# XGBoost ( eXtreme Gradient Boosting )\n",
    "\n",
    "# GBM'nin hız ve tahmin performansını arttırmak üzere optimize edilmiş; \n",
    "# ölçeklenebilir ve farklı platformlara entegre edilebilir versiyonudur.\n",
    "\n",
    "import warnings\n",
    "import numpy as np\n",
    "import pandas as pd\n",
    "import seaborn as sns\n",
    "from matplotlib import pyplot as plt\n",
    "from sklearn.ensemble import RandomForestClassifier, GradientBoostingClassifier, VotingClassifier\n",
    "from sklearn.model_selection import GridSearchCV, cross_validate, RandomizedSearchCV, validation_curve\n",
    "\n",
    "#from xgboost import XGBClassifier\n",
    "#from lightgbm import LGBMClassifier\n",
    "#from catboost import CatBoostClassifier\n",
    "\n",
    "pd.set_option(\"display.max_columns\",None)\n",
    "warnings.simplefilter(action=\"ignore\", category=Warning)\n",
    "\n",
    "df = pd.read_csv(\"diabetes.csv\")\n",
    "y = df[\"Outcome\"]\n",
    "X = df.drop([\"Outcome\"], axis=1)"
   ]
  },
  {
   "cell_type": "code",
   "execution_count": null,
   "id": "e7d44a2a",
   "metadata": {},
   "outputs": [],
   "source": [
    "xgboost_model = XGBClassifier(random_state=17)\n",
    "\n",
    "# Cross Validation Yöntemi ile Başarı Değerlendirme\n",
    "cv_result = cross_validate(xgboost_model, X, y, cv=10, scoring=[\"accuracy\",\"f1\",\"roc_auc\"])\n",
    "\n",
    "cv_result[\"test_accuracy\"].mean()\n",
    "#0.75\n",
    "cv_result[\"test_f1\"].mean()\n",
    "#0.63\n",
    "cv_result[\"test_roc_auc\"].mean()\n",
    "#0.79"
   ]
  },
  {
   "cell_type": "code",
   "execution_count": null,
   "id": "8cb6985d",
   "metadata": {},
   "outputs": [],
   "source": [
    "# Hiperparametre Optimizasyonu\n",
    "\n",
    "# Kullanılacak parametre kombinasyonlarını belirlemek için kullanılır.\n",
    "gbm_params = {\"learning_rate\":[0.1,0.01,0.001],\n",
    "             \"max_depth\":[5, 8, None],\n",
    "             \"n_estimators\": [100, 500, 1000],\n",
    "             \"colsample_bytree\":[None, 0.7,1]}\n",
    "\n",
    "# Bu parametre kombinasyonları genellikle GridSearchCV gibi hiperparametre optimizasyon teknikleri kullanılarak\n",
    "# en iyi performansı sağlayacak şekilde seçilir.\n",
    "\n",
    "xgboost_best_grid = GridSearchCV(xgboost_model, xgboost_params, cv=5, n_jobs=-1, verbose=True).fit(X,y)\n",
    "# GridSearchCV kullanılarak Gradient Boosting Machine (GBM) modeli eğitiliyor.\n",
    "\n",
    "# En iyi değişkenler\n",
    "xgboost_best_grid.best_params_"
   ]
  },
  {
   "cell_type": "code",
   "execution_count": null,
   "id": "5c30b6ba",
   "metadata": {},
   "outputs": [],
   "source": [
    "# Final model\n",
    "xgboost_final = xgboost_model.set_params(**xgboost_best_grid.best_params_, random_state=17).fit(X,y)\n",
    "# En iyi değerler ile yeniden model eğitiliyor."
   ]
  },
  {
   "cell_type": "code",
   "execution_count": null,
   "id": "0921ea9b",
   "metadata": {},
   "outputs": [],
   "source": [
    "# Cross Validation Yöntemi ile Başarı Değerlendirme\n",
    "cv_result = cross_validate(xgboost_final, X, y, cv=10, scoring=[\"accuracy\",\"f1\",\"roc_auc\"])\n",
    "\n",
    "cv_result[\"test_accuracy\"].mean()\n",
    "#0.75\n",
    "cv_result[\"test_f1\"].mean()\n",
    "#0.60\n",
    "cv_result[\"test_roc_auc\"].mean()\n",
    "#0.82"
   ]
  }
 ],
 "metadata": {
  "kernelspec": {
   "display_name": "Python 3 (ipykernel)",
   "language": "python",
   "name": "python3"
  },
  "language_info": {
   "codemirror_mode": {
    "name": "ipython",
    "version": 3
   },
   "file_extension": ".py",
   "mimetype": "text/x-python",
   "name": "python",
   "nbconvert_exporter": "python",
   "pygments_lexer": "ipython3",
   "version": "3.10.9"
  }
 },
 "nbformat": 4,
 "nbformat_minor": 5
}
