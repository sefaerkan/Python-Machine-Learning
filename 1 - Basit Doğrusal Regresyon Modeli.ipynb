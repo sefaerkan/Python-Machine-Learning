{
 "cells": [
  {
   "cell_type": "code",
   "execution_count": 1,
   "id": "d3d2aa94",
   "metadata": {},
   "outputs": [],
   "source": [
    "# Basit Doğrusal Regresyon Modeli ( Linear Regression )"
   ]
  },
  {
   "cell_type": "code",
   "execution_count": 2,
   "id": "4e4e730a",
   "metadata": {},
   "outputs": [],
   "source": [
    "# Sales Prediction with Linear Regression"
   ]
  },
  {
   "cell_type": "code",
   "execution_count": 4,
   "id": "85e7b476",
   "metadata": {},
   "outputs": [],
   "source": [
    "import numpy as np\n",
    "import pandas as pd\n",
    "import matplotlib.pyplot as plt\n",
    "import seaborn as sns\n",
    "from sklearn.linear_model import LinearRegression\n",
    "from sklearn.metrics import mean_squared_error, mean_absolute_error\n",
    "from sklearn.model_selection import train_test_split, cross_val_score\n",
    "\n",
    "pd.set_option(\"display.float_format\", lambda x: \"%.2f\" % x)"
   ]
  },
  {
   "cell_type": "code",
   "execution_count": 6,
   "id": "a24338d3",
   "metadata": {},
   "outputs": [],
   "source": [
    "# Simple Linear Regression with OLS Using Scikit-Learn\n",
    "df = pd.read_csv(\"advertising.csv\")"
   ]
  },
  {
   "cell_type": "code",
   "execution_count": 19,
   "id": "e5cf798e",
   "metadata": {},
   "outputs": [],
   "source": [
    "X = df[[\"TV\"]] # Bağımsız Değişken \n",
    "y = df[[\"Sales\"]] # Bağımlı Değişken"
   ]
  },
  {
   "cell_type": "code",
   "execution_count": 14,
   "id": "09835f66",
   "metadata": {},
   "outputs": [],
   "source": [
    "# Model"
   ]
  },
  {
   "cell_type": "code",
   "execution_count": 20,
   "id": "764d27f0",
   "metadata": {},
   "outputs": [],
   "source": [
    "reg_model = LinearRegression().fit(X,y)\n",
    "# y_hat = b + w*x\n",
    "\n",
    "# LinearRegression, makine öğrenmesinde kullanılan temel bir regresyon algoritmasıdır.\n",
    "# Amacı, bağımsız değişkenler ile bağımlı değişken arasındaki ilişkiyi modellemek ve bu ilişkiyi temsil eden bir\n",
    "# doğrusal fonksiyonu bulmaktır."
   ]
  },
  {
   "cell_type": "code",
   "execution_count": 21,
   "id": "fb2837be",
   "metadata": {
    "collapsed": true
   },
   "outputs": [
    {
     "data": {
      "text/plain": [
       "6.9748214882298925"
      ]
     },
     "execution_count": 21,
     "metadata": {},
     "output_type": "execute_result"
    }
   ],
   "source": [
    "# sabit (b - bias)\n",
    "\n",
    "reg_model.intercept_[0]\n",
    "\n",
    "# Bir doğrusal regresyon modeli tarafından tahmin edilen doğrunun y-kesişimini (intercept) elde etmek için kullanılır\n",
    "# Doğrusal regresyon modelinin y-kesişimini, bağımsız değişkenlerin tümü sıfır olduğunda bağımlı değişkenin tahmin edilen değeri\n",
    "# olarak düşünebiliriz."
   ]
  },
  {
   "cell_type": "code",
   "execution_count": 22,
   "id": "a97b8711",
   "metadata": {
    "collapsed": true
   },
   "outputs": [
    {
     "data": {
      "text/plain": [
       "0.05546477046955886"
      ]
     },
     "execution_count": 22,
     "metadata": {},
     "output_type": "execute_result"
    }
   ],
   "source": [
    "# tv'nin katsayısı (w1)\n",
    "\n",
    "reg_model.coef_[0][0]\n",
    "\n",
    "# Bir doğrusal regresyon modelinin katsayılarını elde etmek için kullanılır.\n",
    "# Doğrusal regresyon modeli, bağımlı değişkenin tahmin edilen değerini hesaplamak için bağımsız değişkenlerle\n",
    "# çarpan katsayılarını kullanır."
   ]
  },
  {
   "cell_type": "code",
   "execution_count": 41,
   "id": "e35f6ba5",
   "metadata": {
    "collapsed": true
   },
   "outputs": [
    {
     "data": {
      "text/plain": [
       "15.294537058663721"
      ]
     },
     "execution_count": 41,
     "metadata": {},
     "output_type": "execute_result"
    }
   ],
   "source": [
    "# Tahmin\n",
    "\n",
    "# 150 birim Tv harcaması olsa ne kadar satış olur?\n",
    "reg_model.intercept_[0] + reg_model.coef_[0][0]*150"
   ]
  },
  {
   "cell_type": "code",
   "execution_count": null,
   "id": "a837df6a",
   "metadata": {},
   "outputs": [],
   "source": [
    "# reg_model.intercept_[0] ifadesi, modelin y-kesişimini temsil eder.\n",
    "# Yani, bağımsız değişkenlerin tümü sıfır olduğunda, bağımlı değişkenin tahmini değeri bu y-kesişim değeri olacaktır.\n",
    "\n",
    "# reg_model.coef_[0][0] ifadesi, modelin ilk bağımsız değişken katsayısını temsil eder.\n",
    "# Bu katsayı, bağımsız değişkenin bağımlı değişken üzerindeki etkisini gösterir.\n",
    "\n",
    "# 150 ise, bağımsız değişkenin değerini temsil eder."
   ]
  },
  {
   "cell_type": "code",
   "execution_count": 26,
   "id": "a0513338",
   "metadata": {
    "collapsed": true
   },
   "outputs": [
    {
     "data": {
      "text/html": [
       "<div>\n",
       "<style scoped>\n",
       "    .dataframe tbody tr th:only-of-type {\n",
       "        vertical-align: middle;\n",
       "    }\n",
       "\n",
       "    .dataframe tbody tr th {\n",
       "        vertical-align: top;\n",
       "    }\n",
       "\n",
       "    .dataframe thead th {\n",
       "        text-align: right;\n",
       "    }\n",
       "</style>\n",
       "<table border=\"1\" class=\"dataframe\">\n",
       "  <thead>\n",
       "    <tr style=\"text-align: right;\">\n",
       "      <th></th>\n",
       "      <th>count</th>\n",
       "      <th>mean</th>\n",
       "      <th>std</th>\n",
       "      <th>min</th>\n",
       "      <th>25%</th>\n",
       "      <th>50%</th>\n",
       "      <th>75%</th>\n",
       "      <th>max</th>\n",
       "    </tr>\n",
       "  </thead>\n",
       "  <tbody>\n",
       "    <tr>\n",
       "      <th>TV</th>\n",
       "      <td>200.00</td>\n",
       "      <td>147.04</td>\n",
       "      <td>85.85</td>\n",
       "      <td>0.70</td>\n",
       "      <td>74.38</td>\n",
       "      <td>149.75</td>\n",
       "      <td>218.82</td>\n",
       "      <td>296.40</td>\n",
       "    </tr>\n",
       "    <tr>\n",
       "      <th>Radio</th>\n",
       "      <td>200.00</td>\n",
       "      <td>23.26</td>\n",
       "      <td>14.85</td>\n",
       "      <td>0.00</td>\n",
       "      <td>9.97</td>\n",
       "      <td>22.90</td>\n",
       "      <td>36.52</td>\n",
       "      <td>49.60</td>\n",
       "    </tr>\n",
       "    <tr>\n",
       "      <th>Newspaper</th>\n",
       "      <td>200.00</td>\n",
       "      <td>30.55</td>\n",
       "      <td>21.78</td>\n",
       "      <td>0.30</td>\n",
       "      <td>12.75</td>\n",
       "      <td>25.75</td>\n",
       "      <td>45.10</td>\n",
       "      <td>114.00</td>\n",
       "    </tr>\n",
       "    <tr>\n",
       "      <th>Sales</th>\n",
       "      <td>200.00</td>\n",
       "      <td>15.13</td>\n",
       "      <td>5.28</td>\n",
       "      <td>1.60</td>\n",
       "      <td>11.00</td>\n",
       "      <td>16.00</td>\n",
       "      <td>19.05</td>\n",
       "      <td>27.00</td>\n",
       "    </tr>\n",
       "  </tbody>\n",
       "</table>\n",
       "</div>"
      ],
      "text/plain": [
       "           count   mean   std  min   25%    50%    75%    max\n",
       "TV        200.00 147.04 85.85 0.70 74.38 149.75 218.82 296.40\n",
       "Radio     200.00  23.26 14.85 0.00  9.97  22.90  36.52  49.60\n",
       "Newspaper 200.00  30.55 21.78 0.30 12.75  25.75  45.10 114.00\n",
       "Sales     200.00  15.13  5.28 1.60 11.00  16.00  19.05  27.00"
      ]
     },
     "execution_count": 26,
     "metadata": {},
     "output_type": "execute_result"
    }
   ],
   "source": [
    "df.describe().T"
   ]
  },
  {
   "cell_type": "code",
   "execution_count": 27,
   "id": "3be4a306",
   "metadata": {},
   "outputs": [],
   "source": [
    "# Tahmin Başarısı"
   ]
  },
  {
   "cell_type": "code",
   "execution_count": 29,
   "id": "cf86f2a0",
   "metadata": {
    "collapsed": true
   },
   "outputs": [
    {
     "data": {
      "text/plain": [
       "5.2177438977951285"
      ]
     },
     "execution_count": 29,
     "metadata": {},
     "output_type": "execute_result"
    }
   ],
   "source": [
    "# MSE\n",
    "y_pred = reg_model.predict(X) # Modelin veri kümesi (X) üzerinde yaptığı tahminleri içerir.\n",
    "\n",
    "mean_squared_error(y,y_pred)\n",
    "# Tahmin edilen değerler (y_pred) ile gerçek değerler (y) arasındaki ortalama karesel hata (MSE) değerini hesaplar."
   ]
  },
  {
   "cell_type": "code",
   "execution_count": 31,
   "id": "eff14731",
   "metadata": {
    "collapsed": true
   },
   "outputs": [
    {
     "data": {
      "text/plain": [
       "Sales   15.13\n",
       "dtype: float64"
      ]
     },
     "execution_count": 31,
     "metadata": {},
     "output_type": "execute_result"
    }
   ],
   "source": [
    "y.mean() # Ortlama y-> Bağımlı Değişken -> Satış Sayısı"
   ]
  },
  {
   "cell_type": "code",
   "execution_count": 33,
   "id": "758c3772",
   "metadata": {
    "collapsed": true
   },
   "outputs": [
    {
     "data": {
      "text/plain": [
       "Sales   5.28\n",
       "dtype: float64"
      ]
     },
     "execution_count": 33,
     "metadata": {},
     "output_type": "execute_result"
    }
   ],
   "source": [
    "y.std() # Standart Sapma"
   ]
  },
  {
   "cell_type": "code",
   "execution_count": 35,
   "id": "0d3b640b",
   "metadata": {
    "collapsed": true
   },
   "outputs": [
    {
     "data": {
      "text/plain": [
       "2.2842381438447106"
      ]
     },
     "execution_count": 35,
     "metadata": {},
     "output_type": "execute_result"
    }
   ],
   "source": [
    "# RMSE\n",
    "np.sqrt(mean_squared_error(y,y_pred))\n",
    "# MSE değerinin karekökünü alarak kök ortalama karesel hata (Root Mean Squared Error, RMSE) değerini elde eder."
   ]
  },
  {
   "cell_type": "code",
   "execution_count": 37,
   "id": "1ca0404a",
   "metadata": {
    "collapsed": true
   },
   "outputs": [
    {
     "data": {
      "text/plain": [
       "1.8305872641932417"
      ]
     },
     "execution_count": 37,
     "metadata": {},
     "output_type": "execute_result"
    }
   ],
   "source": [
    "# MAE\n",
    "mean_absolute_error(y, y_pred) # Mutlak Değer Hata Ortlaması"
   ]
  },
  {
   "cell_type": "code",
   "execution_count": 39,
   "id": "05f2e4fd",
   "metadata": {
    "collapsed": true
   },
   "outputs": [
    {
     "data": {
      "text/plain": [
       "0.8121757029987414"
      ]
     },
     "execution_count": 39,
     "metadata": {},
     "output_type": "execute_result"
    }
   ],
   "source": [
    "# R-KARE\n",
    "\n",
    "reg_model.score(X,y)\n",
    "# Bu değer veri setindeki bağımsız değişkenlerin bağımlı değişkeni açıklama yüzdesidir.\n",
    "\n",
    "# R-kare, bir regresyon modelinin bağımsız değişkenlerin (X'lerin) bağımlı değişken üzerindeki varyansının ne kadarını\n",
    "# açıkladığını ölçer.\n",
    "\n",
    "# Değerler genellikle 0 ile 1 arasında olup, 1'e ne kadar yakınsa, modelin bağımsız değişkenlerin bağımlı değişken üzerindeki\n",
    "# varyansını daha iyi açıkladığı kabul edilir."
   ]
  }
 ],
 "metadata": {
  "kernelspec": {
   "display_name": "Python 3 (ipykernel)",
   "language": "python",
   "name": "python3"
  },
  "language_info": {
   "codemirror_mode": {
    "name": "ipython",
    "version": 3
   },
   "file_extension": ".py",
   "mimetype": "text/x-python",
   "name": "python",
   "nbconvert_exporter": "python",
   "pygments_lexer": "ipython3",
   "version": "3.10.9"
  }
 },
 "nbformat": 4,
 "nbformat_minor": 5
}
