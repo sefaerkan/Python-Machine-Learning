{
 "cells": [
  {
   "cell_type": "code",
   "execution_count": 1,
   "id": "c5f8a4fe",
   "metadata": {},
   "outputs": [],
   "source": [
    "# LightGBM\n",
    "\n",
    "# XGBoost'un eğitim süresi performansını arttırmaya yönelik geliştirilen bir diğer GBM türüdür.\n",
    "# Level-wise büyüme stratejisi yerine Leaf-wise büyüme strayejisi ile daha hızlıdır.\n",
    "\n",
    "import warnings\n",
    "import numpy as np\n",
    "import pandas as pd\n",
    "import seaborn as sns\n",
    "from matplotlib import pyplot as plt\n",
    "from sklearn.ensemble import RandomForestClassifier, GradientBoostingClassifier, VotingClassifier\n",
    "from sklearn.model_selection import GridSearchCV, cross_validate, RandomizedSearchCV, validation_curve\n",
    "\n",
    "#from xgboost import XGBClassifier\n",
    "#from lightgbm import LGBMClassifier\n",
    "#from catboost import CatBoostClassifier\n",
    "\n",
    "pd.set_option(\"display.max_columns\",None)\n",
    "warnings.simplefilter(action=\"ignore\", category=Warning)\n",
    "\n",
    "df = pd.read_csv(\"diabetes.csv\")\n",
    "y = df[\"Outcome\"]\n",
    "X = df.drop([\"Outcome\"], axis=1)"
   ]
  },
  {
   "cell_type": "code",
   "execution_count": null,
   "id": "d7ea2f4a",
   "metadata": {},
   "outputs": [],
   "source": [
    "lgbm_model = LGBMClassifier(random_state=17)\n",
    "lgbm_model.get_params()\n",
    "\n",
    "# Cross Validation Yöntemi ile Başarı Değerlendirme\n",
    "cv_result = cross_validate(lgbm_model, X, y, cv=5, scoring=[\"accuracy\",\"f1\",\"roc_auc\"])\n",
    "\n",
    "cv_result[\"test_accuracy\"].mean()\n",
    "#0.74\n",
    "cv_result[\"test_f1\"].mean()\n",
    "#0.62\n",
    "cv_result[\"test_roc_auc\"].mean()\n",
    "#0.79"
   ]
  },
  {
   "cell_type": "code",
   "execution_count": null,
   "id": "ec1bebdd",
   "metadata": {},
   "outputs": [],
   "source": [
    "# Hiperparametre Optimizasyonu\n",
    "\n",
    "# Kullanılacak parametre kombinasyonlarını belirlemek için kullanılır.\n",
    "lgbm_params = {\"learning_rate\":[0.01, 0.1],\n",
    "             \"n_estimators\": [100, 300, 500, 1000],\n",
    "             \"colsample_bytree\":[0.5, 0.7, 1]}\n",
    "\n",
    "# Bu parametre kombinasyonları genellikle GridSearchCV gibi hiperparametre optimizasyon teknikleri kullanılarak\n",
    "# en iyi performansı sağlayacak şekilde seçilir.\n",
    "\n",
    "lgbm_best_grid = GridSearchCV(lgbm_model, lgbm_params, cv=5, n_jobs=-1, verbose=True).fit(X,y)\n",
    "\n",
    "# En iyi değişkenler\n",
    "lgbm_best_grid.best_params_"
   ]
  },
  {
   "cell_type": "code",
   "execution_count": null,
   "id": "9242f5a0",
   "metadata": {},
   "outputs": [],
   "source": [
    "# Final model\n",
    "lgbm_final = lgbm_model.set_params(**lgbm_best_grid.best_params_, random_state=17).fit(X,y)"
   ]
  }
 ],
 "metadata": {
  "kernelspec": {
   "display_name": "Python 3 (ipykernel)",
   "language": "python",
   "name": "python3"
  },
  "language_info": {
   "codemirror_mode": {
    "name": "ipython",
    "version": 3
   },
   "file_extension": ".py",
   "mimetype": "text/x-python",
   "name": "python",
   "nbconvert_exporter": "python",
   "pygments_lexer": "ipython3",
   "version": "3.10.9"
  }
 },
 "nbformat": 4,
 "nbformat_minor": 5
}
