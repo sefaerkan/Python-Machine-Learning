{
 "cells": [
  {
   "cell_type": "code",
   "execution_count": 1,
   "id": "6e6feafe",
   "metadata": {},
   "outputs": [],
   "source": [
    "# Hyperparameter Optimization with RandomSearchCV (BONUS)"
   ]
  },
  {
   "cell_type": "code",
   "execution_count": 2,
   "id": "3743a0a4",
   "metadata": {},
   "outputs": [],
   "source": [
    "import warnings\n",
    "import numpy as np\n",
    "import pandas as pd\n",
    "import seaborn as sns\n",
    "from matplotlib import pyplot as plt\n",
    "from sklearn.ensemble import RandomForestClassifier, GradientBoostingClassifier, VotingClassifier\n",
    "from sklearn.model_selection import GridSearchCV, cross_validate, RandomizedSearchCV, validation_curve\n",
    "\n",
    "pd.set_option(\"display.max_columns\",None)\n",
    "warnings.simplefilter(action=\"ignore\", category=Warning)\n",
    "\n",
    "df = pd.read_csv(\"diabetes.csv\")\n",
    "y = df[\"Outcome\"]\n",
    "X = df.drop([\"Outcome\"], axis=1)"
   ]
  },
  {
   "cell_type": "code",
   "execution_count": 3,
   "id": "e31d0de0",
   "metadata": {},
   "outputs": [],
   "source": [
    "rf_model = RandomForestClassifier(random_state=17)"
   ]
  },
  {
   "cell_type": "code",
   "execution_count": 5,
   "id": "b0c23187",
   "metadata": {},
   "outputs": [],
   "source": [
    "rf_random_params = {\"max_depth\":np.random.randint(5,50,10),\n",
    "                    \"max_features\": [3,5,7,\"auto\",\"sqrt\"],\n",
    "                    \"min_samples_split\": np.random.randint(2,50,20),\n",
    "                    \"n_estimators\": [int(x) for x in np.linspace(start=200, stop=1500, num=10)]}"
   ]
  },
  {
   "cell_type": "code",
   "execution_count": 7,
   "id": "c1801c77",
   "metadata": {
    "collapsed": true
   },
   "outputs": [
    {
     "name": "stdout",
     "output_type": "stream",
     "text": [
      "Fitting 3 folds for each of 100 candidates, totalling 300 fits\n"
     ]
    },
    {
     "data": {
      "text/html": [
       "<style>#sk-container-id-1 {color: black;background-color: white;}#sk-container-id-1 pre{padding: 0;}#sk-container-id-1 div.sk-toggleable {background-color: white;}#sk-container-id-1 label.sk-toggleable__label {cursor: pointer;display: block;width: 100%;margin-bottom: 0;padding: 0.3em;box-sizing: border-box;text-align: center;}#sk-container-id-1 label.sk-toggleable__label-arrow:before {content: \"▸\";float: left;margin-right: 0.25em;color: #696969;}#sk-container-id-1 label.sk-toggleable__label-arrow:hover:before {color: black;}#sk-container-id-1 div.sk-estimator:hover label.sk-toggleable__label-arrow:before {color: black;}#sk-container-id-1 div.sk-toggleable__content {max-height: 0;max-width: 0;overflow: hidden;text-align: left;background-color: #f0f8ff;}#sk-container-id-1 div.sk-toggleable__content pre {margin: 0.2em;color: black;border-radius: 0.25em;background-color: #f0f8ff;}#sk-container-id-1 input.sk-toggleable__control:checked~div.sk-toggleable__content {max-height: 200px;max-width: 100%;overflow: auto;}#sk-container-id-1 input.sk-toggleable__control:checked~label.sk-toggleable__label-arrow:before {content: \"▾\";}#sk-container-id-1 div.sk-estimator input.sk-toggleable__control:checked~label.sk-toggleable__label {background-color: #d4ebff;}#sk-container-id-1 div.sk-label input.sk-toggleable__control:checked~label.sk-toggleable__label {background-color: #d4ebff;}#sk-container-id-1 input.sk-hidden--visually {border: 0;clip: rect(1px 1px 1px 1px);clip: rect(1px, 1px, 1px, 1px);height: 1px;margin: -1px;overflow: hidden;padding: 0;position: absolute;width: 1px;}#sk-container-id-1 div.sk-estimator {font-family: monospace;background-color: #f0f8ff;border: 1px dotted black;border-radius: 0.25em;box-sizing: border-box;margin-bottom: 0.5em;}#sk-container-id-1 div.sk-estimator:hover {background-color: #d4ebff;}#sk-container-id-1 div.sk-parallel-item::after {content: \"\";width: 100%;border-bottom: 1px solid gray;flex-grow: 1;}#sk-container-id-1 div.sk-label:hover label.sk-toggleable__label {background-color: #d4ebff;}#sk-container-id-1 div.sk-serial::before {content: \"\";position: absolute;border-left: 1px solid gray;box-sizing: border-box;top: 0;bottom: 0;left: 50%;z-index: 0;}#sk-container-id-1 div.sk-serial {display: flex;flex-direction: column;align-items: center;background-color: white;padding-right: 0.2em;padding-left: 0.2em;position: relative;}#sk-container-id-1 div.sk-item {position: relative;z-index: 1;}#sk-container-id-1 div.sk-parallel {display: flex;align-items: stretch;justify-content: center;background-color: white;position: relative;}#sk-container-id-1 div.sk-item::before, #sk-container-id-1 div.sk-parallel-item::before {content: \"\";position: absolute;border-left: 1px solid gray;box-sizing: border-box;top: 0;bottom: 0;left: 50%;z-index: -1;}#sk-container-id-1 div.sk-parallel-item {display: flex;flex-direction: column;z-index: 1;position: relative;background-color: white;}#sk-container-id-1 div.sk-parallel-item:first-child::after {align-self: flex-end;width: 50%;}#sk-container-id-1 div.sk-parallel-item:last-child::after {align-self: flex-start;width: 50%;}#sk-container-id-1 div.sk-parallel-item:only-child::after {width: 0;}#sk-container-id-1 div.sk-dashed-wrapped {border: 1px dashed gray;margin: 0 0.4em 0.5em 0.4em;box-sizing: border-box;padding-bottom: 0.4em;background-color: white;}#sk-container-id-1 div.sk-label label {font-family: monospace;font-weight: bold;display: inline-block;line-height: 1.2em;}#sk-container-id-1 div.sk-label-container {text-align: center;}#sk-container-id-1 div.sk-container {/* jupyter's `normalize.less` sets `[hidden] { display: none; }` but bootstrap.min.css set `[hidden] { display: none !important; }` so we also need the `!important` here to be able to override the default hidden behavior on the sphinx rendered scikit-learn.org. See: https://github.com/scikit-learn/scikit-learn/issues/21755 */display: inline-block !important;position: relative;}#sk-container-id-1 div.sk-text-repr-fallback {display: none;}</style><div id=\"sk-container-id-1\" class=\"sk-top-container\"><div class=\"sk-text-repr-fallback\"><pre>RandomizedSearchCV(cv=3, estimator=RandomForestClassifier(random_state=17),\n",
       "                   n_iter=100, n_jobs=1,\n",
       "                   param_distributions={&#x27;max_depth&#x27;: array([19, 14, 28, 13, 23, 39, 43, 31, 40, 23]),\n",
       "                                        &#x27;max_features&#x27;: [3, 5, 7, &#x27;auto&#x27;,\n",
       "                                                         &#x27;sqrt&#x27;],\n",
       "                                        &#x27;min_samples_split&#x27;: array([37, 47, 45, 39, 19, 46, 22,  6, 20, 15, 36, 45, 33, 35, 35, 27, 12,\n",
       "        4, 48, 43]),\n",
       "                                        &#x27;n_estimators&#x27;: [200, 344, 488, 633,\n",
       "                                                         777, 922, 1066, 1211,\n",
       "                                                         1355, 1500]},\n",
       "                   random_state=42, verbose=True)</pre><b>In a Jupyter environment, please rerun this cell to show the HTML representation or trust the notebook. <br />On GitHub, the HTML representation is unable to render, please try loading this page with nbviewer.org.</b></div><div class=\"sk-container\" hidden><div class=\"sk-item sk-dashed-wrapped\"><div class=\"sk-label-container\"><div class=\"sk-label sk-toggleable\"><input class=\"sk-toggleable__control sk-hidden--visually\" id=\"sk-estimator-id-1\" type=\"checkbox\" ><label for=\"sk-estimator-id-1\" class=\"sk-toggleable__label sk-toggleable__label-arrow\">RandomizedSearchCV</label><div class=\"sk-toggleable__content\"><pre>RandomizedSearchCV(cv=3, estimator=RandomForestClassifier(random_state=17),\n",
       "                   n_iter=100, n_jobs=1,\n",
       "                   param_distributions={&#x27;max_depth&#x27;: array([19, 14, 28, 13, 23, 39, 43, 31, 40, 23]),\n",
       "                                        &#x27;max_features&#x27;: [3, 5, 7, &#x27;auto&#x27;,\n",
       "                                                         &#x27;sqrt&#x27;],\n",
       "                                        &#x27;min_samples_split&#x27;: array([37, 47, 45, 39, 19, 46, 22,  6, 20, 15, 36, 45, 33, 35, 35, 27, 12,\n",
       "        4, 48, 43]),\n",
       "                                        &#x27;n_estimators&#x27;: [200, 344, 488, 633,\n",
       "                                                         777, 922, 1066, 1211,\n",
       "                                                         1355, 1500]},\n",
       "                   random_state=42, verbose=True)</pre></div></div></div><div class=\"sk-parallel\"><div class=\"sk-parallel-item\"><div class=\"sk-item\"><div class=\"sk-label-container\"><div class=\"sk-label sk-toggleable\"><input class=\"sk-toggleable__control sk-hidden--visually\" id=\"sk-estimator-id-2\" type=\"checkbox\" ><label for=\"sk-estimator-id-2\" class=\"sk-toggleable__label sk-toggleable__label-arrow\">estimator: RandomForestClassifier</label><div class=\"sk-toggleable__content\"><pre>RandomForestClassifier(random_state=17)</pre></div></div></div><div class=\"sk-serial\"><div class=\"sk-item\"><div class=\"sk-estimator sk-toggleable\"><input class=\"sk-toggleable__control sk-hidden--visually\" id=\"sk-estimator-id-3\" type=\"checkbox\" ><label for=\"sk-estimator-id-3\" class=\"sk-toggleable__label sk-toggleable__label-arrow\">RandomForestClassifier</label><div class=\"sk-toggleable__content\"><pre>RandomForestClassifier(random_state=17)</pre></div></div></div></div></div></div></div></div></div></div>"
      ],
      "text/plain": [
       "RandomizedSearchCV(cv=3, estimator=RandomForestClassifier(random_state=17),\n",
       "                   n_iter=100, n_jobs=1,\n",
       "                   param_distributions={'max_depth': array([19, 14, 28, 13, 23, 39, 43, 31, 40, 23]),\n",
       "                                        'max_features': [3, 5, 7, 'auto',\n",
       "                                                         'sqrt'],\n",
       "                                        'min_samples_split': array([37, 47, 45, 39, 19, 46, 22,  6, 20, 15, 36, 45, 33, 35, 35, 27, 12,\n",
       "        4, 48, 43]),\n",
       "                                        'n_estimators': [200, 344, 488, 633,\n",
       "                                                         777, 922, 1066, 1211,\n",
       "                                                         1355, 1500]},\n",
       "                   random_state=42, verbose=True)"
      ]
     },
     "execution_count": 7,
     "metadata": {},
     "output_type": "execute_result"
    }
   ],
   "source": [
    "rf_random = RandomizedSearchCV(estimator=rf_model, param_distributions=rf_random_params, n_iter=100, cv=3, verbose=True,\n",
    "                               random_state=42, n_jobs=1)\n",
    "\n",
    "rf_random.fit(X,y)"
   ]
  },
  {
   "cell_type": "code",
   "execution_count": 8,
   "id": "f4c12d34",
   "metadata": {
    "collapsed": true
   },
   "outputs": [
    {
     "data": {
      "text/plain": [
       "{'n_estimators': 200,\n",
       " 'min_samples_split': 22,\n",
       " 'max_features': 'sqrt',\n",
       " 'max_depth': 19}"
      ]
     },
     "execution_count": 8,
     "metadata": {},
     "output_type": "execute_result"
    }
   ],
   "source": [
    "rf_random.best_params_"
   ]
  },
  {
   "cell_type": "code",
   "execution_count": 12,
   "id": "779efc7a",
   "metadata": {},
   "outputs": [
    {
     "data": {
      "text/plain": [
       "0.8361747030048916"
      ]
     },
     "execution_count": 12,
     "metadata": {},
     "output_type": "execute_result"
    }
   ],
   "source": [
    "rf_random_final = rf_model.set_params(**rf_random.best_params_, random_state=17).fit(X,y)\n",
    "\n",
    "cv_results = cross_validate(rf_random_final, X, y, cv=5, scoring=[\"accuracy\",\"f1\",\"roc_auc\"])\n",
    "\n",
    "cv_results[\"test_accuracy\"].mean()\n",
    "# 0.7696120872591461\n",
    "\n",
    "cv_results[\"test_f1\"].mean()\n",
    "# 0.6349765689355348\n",
    "\n",
    "cv_results[\"test_roc_auc\"].mean()\n",
    "# 0.8361747030048916"
   ]
  }
 ],
 "metadata": {
  "kernelspec": {
   "display_name": "Python 3 (ipykernel)",
   "language": "python",
   "name": "python3"
  },
  "language_info": {
   "codemirror_mode": {
    "name": "ipython",
    "version": 3
   },
   "file_extension": ".py",
   "mimetype": "text/x-python",
   "name": "python",
   "nbconvert_exporter": "python",
   "pygments_lexer": "ipython3",
   "version": "3.10.9"
  }
 },
 "nbformat": 4,
 "nbformat_minor": 5
}
