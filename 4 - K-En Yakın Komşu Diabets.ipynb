{
 "cells": [
  {
   "cell_type": "code",
   "execution_count": 1,
   "id": "d96b3631",
   "metadata": {},
   "outputs": [],
   "source": [
    "########################################\n",
    "# K-En Yakın Komşu (K-Nearest Neighbors)\n",
    "########################################\n",
    "\n",
    "# Gözlemlerin birbirine olan benzerlikleri üzerinden tahmin yapılır."
   ]
  },
  {
   "cell_type": "code",
   "execution_count": 2,
   "id": "3980b59e",
   "metadata": {},
   "outputs": [],
   "source": [
    "# 1. Exploratory Data Analysis\n",
    "# 2. Data Preprocessing & Feature Engineering\n",
    "# 3. Modeling & Prediction\n",
    "# 4. Model Evalution\n",
    "# 5. Hyperparameter Optimization\n",
    "# 6. Final Model"
   ]
  },
  {
   "cell_type": "code",
   "execution_count": 39,
   "id": "b46d8faa",
   "metadata": {},
   "outputs": [],
   "source": [
    "import numpy as np\n",
    "import pandas as pd\n",
    "import seaborn as sns\n",
    "import matplotlib.pyplot as plt\n",
    "from sklearn.preprocessing import RobustScaler,StandardScaler\n",
    "from sklearn.linear_model import LogisticRegression\n",
    "from sklearn.metrics import accuracy_score, roc_auc_score, confusion_matrix, classification_report\n",
    "from sklearn.model_selection import train_test_split, cross_validate,GridSearchCV\n",
    "from sklearn.neighbors import KNeighborsClassifier\n",
    "\n",
    "pd.set_option(\"display.max_columns\",None)\n",
    "pd.set_option(\"display.float_format\",lambda x: '%.3f' % x)\n",
    "pd.set_option(\"display.width\",500)\n",
    "\n",
    "df = pd.read_csv(\"diabetes.csv\")"
   ]
  },
  {
   "cell_type": "code",
   "execution_count": 7,
   "id": "311d3cf5",
   "metadata": {
    "collapsed": true
   },
   "outputs": [
    {
     "data": {
      "text/plain": [
       "0    500\n",
       "1    268\n",
       "Name: Outcome, dtype: int64"
      ]
     },
     "execution_count": 7,
     "metadata": {},
     "output_type": "execute_result"
    }
   ],
   "source": [
    "######################################################\n",
    "# 1 - KEŞİFCİ VERİ ANALİZİ (Exploratory Data Analysis)\n",
    "######################################################\n",
    "df.head()\n",
    "\n",
    "df.shape\n",
    "\n",
    "df.describe().T\n",
    "\n",
    "df[\"Outcome\"].value_counts()"
   ]
  },
  {
   "cell_type": "code",
   "execution_count": 13,
   "id": "0ced73bf",
   "metadata": {},
   "outputs": [],
   "source": [
    "#####################################\n",
    "# Veri Ön İşleme (Data Preprocessing)\n",
    "#####################################\n",
    "\n",
    "y = df[\"Outcome\"]\n",
    "X = df.drop([\"Outcome\"], axis=1)\n",
    "\n",
    "X_scaled = StandardScaler().fit_transform(X) \n",
    "# X değerlerini standartlaştırdık.\n",
    "\n",
    "X = pd.DataFrame(X_scaled, columns=X.columns)\n",
    "# X deki değişkenleri yeni değerler ile değiştirdik ki kolon isimleri gelsin"
   ]
  },
  {
   "cell_type": "code",
   "execution_count": 17,
   "id": "2dde32b6",
   "metadata": {},
   "outputs": [],
   "source": [
    "#############################\n",
    "# Model & Tahmin (Prediction)\n",
    "#############################\n",
    "\n",
    "knn_model = KNeighborsClassifier().fit(X,y)\n",
    "# Modeli kurduk\n",
    "# Veri setinde bir öğrenme işlemi gerçekleştrdik.\n",
    "# Bağımlı, bağımsız değişken arasındaki ilişkiyi öğrenmiş olduk"
   ]
  },
  {
   "cell_type": "code",
   "execution_count": 19,
   "id": "102d2a5c",
   "metadata": {
    "collapsed": true
   },
   "outputs": [
    {
     "data": {
      "text/plain": [
       "array([1], dtype=int64)"
      ]
     },
     "execution_count": 19,
     "metadata": {},
     "output_type": "execute_result"
    }
   ],
   "source": [
    "# Rastgele bir hasta aldık\n",
    "random_user = X.sample(1,random_state=45)\n",
    "\n",
    "knn_model.predict(random_user)\n",
    "# Modele bu kişi diyabet mi diye sorduk.\n",
    "# array([1]), Hasta dedi"
   ]
  },
  {
   "cell_type": "code",
   "execution_count": 23,
   "id": "9c31a856",
   "metadata": {
    "collapsed": true
   },
   "outputs": [
    {
     "name": "stdout",
     "output_type": "stream",
     "text": [
      "              precision    recall  f1-score   support\n",
      "\n",
      "           0       0.85      0.90      0.87       500\n",
      "           1       0.79      0.70      0.74       268\n",
      "\n",
      "    accuracy                           0.83       768\n",
      "   macro avg       0.82      0.80      0.81       768\n",
      "weighted avg       0.83      0.83      0.83       768\n",
      "\n"
     ]
    },
    {
     "data": {
      "text/plain": [
       "0.9017686567164179"
      ]
     },
     "execution_count": 23,
     "metadata": {},
     "output_type": "execute_result"
    }
   ],
   "source": [
    "##############################################\n",
    "# Model Başarı Değerlendirme (Model Evalution)\n",
    "##############################################\n",
    "\n",
    "y_pred = knn_model.predict(X) # Bütün gözlem birimleri için tahmin ettik.\n",
    "\n",
    "y_prob = knn_model.predict_proba(X)[:,1] # 1 sınıfına ait olma olasılıkları\n",
    "\n",
    "print(classification_report(y,y_pred))\n",
    "# acc: 0.83\n",
    "# f1: 0.74\n",
    "\n",
    "# AUC\n",
    "roc_auc_score(y,y_prob)\n",
    "# 0.90"
   ]
  },
  {
   "cell_type": "code",
   "execution_count": 26,
   "id": "03c54ccd",
   "metadata": {
    "collapsed": true
   },
   "outputs": [
    {
     "data": {
      "text/plain": [
       "{'fit_time': array([0.00299072, 0.00299144, 0.00198412, 0.00201273, 0.00109267]),\n",
       " 'score_time': array([0.01451468, 0.0069828 , 0.00560498, 0.00498199, 0.00497794]),\n",
       " 'test_accuracy': array([0.72077922, 0.73376623, 0.71428571, 0.77124183, 0.7254902 ]),\n",
       " 'test_f1': array([0.58252427, 0.60952381, 0.54166667, 0.63917526, 0.58      ]),\n",
       " 'test_roc_auc': array([0.77555556, 0.78759259, 0.73194444, 0.83226415, 0.77528302])}"
      ]
     },
     "execution_count": 26,
     "metadata": {},
     "output_type": "execute_result"
    }
   ],
   "source": [
    "# 5 Katlı Çarpaz Doğrulama\n",
    "cv_result = cross_validate(knn_model, X, y, cv=5, scoring=[\"accuracy\",\"f1\",\"roc_auc\"])\n",
    "cv_result "
   ]
  },
  {
   "cell_type": "code",
   "execution_count": 32,
   "id": "6026fa56",
   "metadata": {
    "collapsed": true
   },
   "outputs": [
    {
     "data": {
      "text/plain": [
       "0.7805279524807827"
      ]
     },
     "execution_count": 32,
     "metadata": {},
     "output_type": "execute_result"
    }
   ],
   "source": [
    "cv_result[\"test_accuracy\"].mean()\n",
    "# 0.733112638994992\n",
    "\n",
    "cv_result[\"test_f1\"].mean()\n",
    "# 0.5905780011534191\n",
    "\n",
    "cv_result[\"test_roc_auc\"].mean()\n",
    "# 0.7805279524807827"
   ]
  },
  {
   "cell_type": "code",
   "execution_count": 33,
   "id": "0c851a64",
   "metadata": {},
   "outputs": [],
   "source": [
    "# Bu değerler nasıl arttırılabilir.\n",
    "\n",
    "# 1. Örnek boyutu arttırılabilir.\n",
    "# 2. Veri ön işleme detaylandırılabilir.\n",
    "# 3. Özellik mühendisi ile yeni değerler oluşturulabilir.\n",
    "# 4. İlgili algoritma için optimizasyonlar yapılabilir."
   ]
  },
  {
   "cell_type": "code",
   "execution_count": 35,
   "id": "7321e10b",
   "metadata": {
    "collapsed": true
   },
   "outputs": [
    {
     "data": {
      "text/plain": [
       "{'algorithm': 'auto',\n",
       " 'leaf_size': 30,\n",
       " 'metric': 'minkowski',\n",
       " 'metric_params': None,\n",
       " 'n_jobs': None,\n",
       " 'n_neighbors': 5,\n",
       " 'p': 2,\n",
       " 'weights': 'uniform'}"
      ]
     },
     "execution_count": 35,
     "metadata": {},
     "output_type": "execute_result"
    }
   ],
   "source": [
    "knn_model.get_params()\n",
    "\n",
    "# Parametre: Modellerin veri içinden öğrendiği ağırlıklardır. Ağırlıklar o parametlerin tahmincileriydi.\n",
    "\n",
    "# Hiperparametre: Kullanıcı tarafından  tanımlanması gereken dışsal ve veri seti içinden öğrenilmeyen parametrelerdir."
   ]
  },
  {
   "cell_type": "code",
   "execution_count": 38,
   "id": "213cd1bb",
   "metadata": {},
   "outputs": [],
   "source": [
    "##############################\n",
    "# Hiperparametre Optimizasyonu\n",
    "##############################\n",
    "\n",
    "knn_model.get_params()\n",
    "# 5 tane komşuluk değeri var\n",
    "# Komşuluk sayısını değiştirerek, olması gereken en optimum komşuluk sayısını bulmak istiyorum\n",
    "\n",
    "knn_params = {\"n_neighbors\": range(2,50)}"
   ]
  },
  {
   "cell_type": "code",
   "execution_count": 40,
   "id": "367f0cd7",
   "metadata": {
    "collapsed": true
   },
   "outputs": [
    {
     "name": "stdout",
     "output_type": "stream",
     "text": [
      "Fitting 5 folds for each of 48 candidates, totalling 240 fits\n"
     ]
    }
   ],
   "source": [
    "knn_gs_best = GridSearchCV(knn_model, knn_params, cv=5, n_jobs=-1, verbose=1).fit(X,y)"
   ]
  },
  {
   "cell_type": "code",
   "execution_count": 42,
   "id": "7ea186e4",
   "metadata": {
    "collapsed": true
   },
   "outputs": [
    {
     "data": {
      "text/plain": [
       "{'n_neighbors': 17}"
      ]
     },
     "execution_count": 42,
     "metadata": {},
     "output_type": "execute_result"
    }
   ],
   "source": [
    "knn_gs_best.best_params_\n",
    "# 17 komşuluk sayısı geldi."
   ]
  },
  {
   "cell_type": "code",
   "execution_count": 44,
   "id": "36a6c3cf",
   "metadata": {},
   "outputs": [],
   "source": [
    "#############\n",
    "# Final Model\n",
    "#############\n",
    "knn_final = knn_model.set_params(**knn_gs_best.best_params_).fit(X,y) # ** dedik direkt atayacak"
   ]
  },
  {
   "cell_type": "code",
   "execution_count": 45,
   "id": "1fc3fb87",
   "metadata": {
    "collapsed": true
   },
   "outputs": [
    {
     "data": {
      "text/plain": [
       "{'fit_time': array([0.00184774, 0.        , 0.00100684, 0.00110316, 0.00096512]),\n",
       " 'score_time': array([0.00652122, 0.02352929, 0.00600457, 0.005054  , 0.00497746]),\n",
       " 'test_accuracy': array([0.75324675, 0.74025974, 0.75974026, 0.81045752, 0.77124183]),\n",
       " 'test_f1': array([0.60416667, 0.60784314, 0.57471264, 0.70103093, 0.59770115]),\n",
       " 'test_roc_auc': array([0.80675926, 0.7912037 , 0.79166667, 0.84603774, 0.82830189])}"
      ]
     },
     "execution_count": 45,
     "metadata": {},
     "output_type": "execute_result"
    }
   ],
   "source": [
    "cv_result = cross_validate(knn_final, X, y, cv=5, scoring=[\"accuracy\",\"f1\",\"roc_auc\"])\n",
    "cv_result"
   ]
  },
  {
   "cell_type": "code",
   "execution_count": 46,
   "id": "cc0e473b",
   "metadata": {
    "collapsed": true
   },
   "outputs": [
    {
     "data": {
      "text/plain": [
       "0.7669892199303965"
      ]
     },
     "execution_count": 46,
     "metadata": {},
     "output_type": "execute_result"
    }
   ],
   "source": [
    "cv_result[\"test_accuracy\"].mean()\n",
    "# 0.7669892199303965\n",
    "\n",
    "cv_result[\"test_f1\"].mean()\n",
    "# 0.6170909049720137\n",
    "\n",
    "cv_result[\"test_roc_auc\"].mean()\n",
    "# 0.8127938504542278\n",
    "\n",
    "# Değerler artmış"
   ]
  }
 ],
 "metadata": {
  "kernelspec": {
   "display_name": "Python 3 (ipykernel)",
   "language": "python",
   "name": "python3"
  },
  "language_info": {
   "codemirror_mode": {
    "name": "ipython",
    "version": 3
   },
   "file_extension": ".py",
   "mimetype": "text/x-python",
   "name": "python",
   "nbconvert_exporter": "python",
   "pygments_lexer": "ipython3",
   "version": "3.10.9"
  }
 },
 "nbformat": 4,
 "nbformat_minor": 5
}
