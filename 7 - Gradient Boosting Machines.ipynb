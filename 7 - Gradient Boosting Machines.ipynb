{
 "cells": [
  {
   "cell_type": "code",
   "execution_count": 2,
   "id": "b56d44b5",
   "metadata": {},
   "outputs": [],
   "source": [
    "# Gradient Boosting Machines ( GBM )\n",
    "# Boosting yöntemini kullanarak güçlü bir tahmin modeli oluşturan bir makine öğrenmesi tekniğidir.\n",
    "# Hatalar/Artıklar üzerine tek bir tahminsel model formunda olan modeller serisi kurulur.\n",
    "\n",
    "# AdaBoost(Adaptive Boosting): Zayıf sınıflandırıcıların bir araya gelerek güçlü bir sınıflandırıcı oluşturması fikrine dayanır.\n",
    "\n",
    "import warnings\n",
    "import numpy as np\n",
    "import pandas as pd\n",
    "import seaborn as sns\n",
    "from matplotlib import pyplot as plt\n",
    "from sklearn.ensemble import RandomForestClassifier, GradientBoostingClassifier, VotingClassifier\n",
    "from sklearn.model_selection import GridSearchCV, cross_validate, RandomizedSearchCV, validation_curve\n",
    "\n",
    "pd.set_option(\"display.max_columns\",None)\n",
    "warnings.simplefilter(action=\"ignore\", category=Warning)\n",
    "\n",
    "df = pd.read_csv(\"diabetes.csv\")\n",
    "y = df[\"Outcome\"]\n",
    "X = df.drop([\"Outcome\"], axis=1)"
   ]
  },
  {
   "cell_type": "code",
   "execution_count": 5,
   "id": "03a9bdaa",
   "metadata": {
    "collapsed": true
   },
   "outputs": [
    {
     "data": {
      "text/plain": [
       "{'ccp_alpha': 0.0,\n",
       " 'criterion': 'friedman_mse',\n",
       " 'init': None,\n",
       " 'learning_rate': 0.1,\n",
       " 'loss': 'log_loss',\n",
       " 'max_depth': 3,\n",
       " 'max_features': None,\n",
       " 'max_leaf_nodes': None,\n",
       " 'min_impurity_decrease': 0.0,\n",
       " 'min_samples_leaf': 1,\n",
       " 'min_samples_split': 2,\n",
       " 'min_weight_fraction_leaf': 0.0,\n",
       " 'n_estimators': 100,\n",
       " 'n_iter_no_change': None,\n",
       " 'random_state': 17,\n",
       " 'subsample': 1.0,\n",
       " 'tol': 0.0001,\n",
       " 'validation_fraction': 0.1,\n",
       " 'verbose': 0,\n",
       " 'warm_start': False}"
      ]
     },
     "execution_count": 5,
     "metadata": {},
     "output_type": "execute_result"
    }
   ],
   "source": [
    "gbm_model = GradientBoostingClassifier(random_state=17)\n",
    "gbm_model.get_params() # Parametreler"
   ]
  },
  {
   "cell_type": "code",
   "execution_count": 9,
   "id": "b17fb8f2",
   "metadata": {
    "collapsed": true
   },
   "outputs": [
    {
     "data": {
      "text/plain": [
       "0.8254867225716283"
      ]
     },
     "execution_count": 9,
     "metadata": {},
     "output_type": "execute_result"
    }
   ],
   "source": [
    "cv_result = cross_validate(gbm_model, X, y, cv=5, scoring=[\"accuracy\",\"f1\",\"roc_auc\"])\n",
    "\n",
    "cv_result[\"test_accuracy\"].mean()\n",
    "# 0.7591715474068416\n",
    "\n",
    "cv_result[\"test_f1\"].mean()\n",
    "# 0.634235802826363\n",
    "\n",
    "cv_result[\"test_roc_auc\"].mean()\n",
    "# 0.8254867225716283"
   ]
  },
  {
   "cell_type": "code",
   "execution_count": 11,
   "id": "6c86a99f",
   "metadata": {},
   "outputs": [
    {
     "name": "stdout",
     "output_type": "stream",
     "text": [
      "Fitting 5 folds for each of 54 candidates, totalling 270 fits\n"
     ]
    },
    {
     "data": {
      "text/plain": [
       "{'learning_rate': 0.1, 'max_depth': 8, 'n_estimators': 100, 'subsample': 0.5}"
      ]
     },
     "execution_count": 11,
     "metadata": {},
     "output_type": "execute_result"
    }
   ],
   "source": [
    "# Hiperparametre Optimizasyonu\n",
    "\n",
    "# Kullanılacak parametre kombinasyonlarını belirlemek için kullanılır.\n",
    "gbm_params = {\"learning_rate\":[0.01, 0.1],\n",
    "             \"max_depth\":[3, 8, 10],\n",
    "             \"n_estimators\": [100, 500, 1000],\n",
    "             \"subsample\":[1, 0.5, 0.7]} # Kaç tane gözlemin oransal olarak göz önünde bulundurulacağını ifade eder.\n",
    "\n",
    "# Bu parametre kombinasyonları genellikle GridSearchCV gibi hiperparametre optimizasyon teknikleri kullanılarak\n",
    "# en iyi performansı sağlayacak şekilde seçilir.\n",
    "\n",
    "gbm_best_grid = GridSearchCV(gbm_model, gbm_params, cv=5, n_jobs=-1, verbose=True).fit(X,y)\n",
    "# GridSearchCV kullanılarak Gradient Boosting Machine (GBM) modeli eğitiliyor.\n",
    "\n",
    "# En iyi değişkenler\n",
    "gbm_best_grid.best_params_"
   ]
  },
  {
   "cell_type": "code",
   "execution_count": 12,
   "id": "3c05f097",
   "metadata": {},
   "outputs": [],
   "source": [
    "# Final model\n",
    "gbm_final = gbm_model.set_params(**gbm_best_grid.best_params_, random_state=17).fit(X,y)\n",
    "# En iyi değerler ile yeniden model eğitiliyor."
   ]
  },
  {
   "cell_type": "code",
   "execution_count": 15,
   "id": "c43989ac",
   "metadata": {},
   "outputs": [
    {
     "data": {
      "text/plain": [
       "0.8257784765897973"
      ]
     },
     "execution_count": 15,
     "metadata": {},
     "output_type": "execute_result"
    }
   ],
   "source": [
    "cv_result = cross_validate(gbm_final, X, y, cv=5, scoring=[\"accuracy\",\"f1\",\"roc_auc\"])\n",
    "\n",
    "cv_result[\"test_accuracy\"].mean()\n",
    "# 0.7800186741363212\n",
    "\n",
    "cv_result[\"test_f1\"].mean()\n",
    "# 0.668605747317776\n",
    "\n",
    "cv_result[\"test_roc_auc\"].mean()\n",
    "# 0.8257784765897973\n",
    "\n",
    "# Model de bize katkı sağladı."
   ]
  }
 ],
 "metadata": {
  "kernelspec": {
   "display_name": "Python 3 (ipykernel)",
   "language": "python",
   "name": "python3"
  },
  "language_info": {
   "codemirror_mode": {
    "name": "ipython",
    "version": 3
   },
   "file_extension": ".py",
   "mimetype": "text/x-python",
   "name": "python",
   "nbconvert_exporter": "python",
   "pygments_lexer": "ipython3",
   "version": "3.10.9"
  }
 },
 "nbformat": 4,
 "nbformat_minor": 5
}
