{
 "cells": [
  {
   "cell_type": "code",
   "execution_count": null,
   "id": "d7f65989",
   "metadata": {},
   "outputs": [],
   "source": [
    "###################################################\n",
    "# End-to-End Diabetes Machine Learning Pipeline III\n",
    "###################################################\n",
    "\n",
    "import joblib\n",
    "import pandas as pd\n",
    "\n",
    "df = pd.read_csv(\"datasets/diabetes.csv\")\n",
    "\n",
    "random_user = df.sample(1, random_state=45)\n",
    "\n",
    "new_model = joblib.load(\"voting_clf.pkl\")\n",
    "\n",
    "new_model.predict(random_user)\n",
    "\n",
    "from diabetes_pipeline import diabetes_data_prep\n",
    "\n",
    "X, y = diabetes_data_prep(df)\n",
    "\n",
    "random_user = X.sample(1, random_state=50)\n",
    "\n",
    "new_model = joblib.load(\"voting_clf.pkl\")\n",
    "\n",
    "new_model.predict(random_user)"
   ]
  }
 ],
 "metadata": {
  "kernelspec": {
   "display_name": "Python 3 (ipykernel)",
   "language": "python",
   "name": "python3"
  },
  "language_info": {
   "codemirror_mode": {
    "name": "ipython",
    "version": 3
   },
   "file_extension": ".py",
   "mimetype": "text/x-python",
   "name": "python",
   "nbconvert_exporter": "python",
   "pygments_lexer": "ipython3",
   "version": "3.10.9"
  }
 },
 "nbformat": 4,
 "nbformat_minor": 5
}
