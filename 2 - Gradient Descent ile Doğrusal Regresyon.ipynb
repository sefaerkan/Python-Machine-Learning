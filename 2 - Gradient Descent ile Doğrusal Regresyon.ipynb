{
 "cells": [
  {
   "cell_type": "code",
   "execution_count": 1,
   "id": "dca2d17c",
   "metadata": {},
   "outputs": [],
   "source": [
    "# Gradient Descent ile Doğrusal Regresyon\n",
    "\n",
    "# Bu algoritma, bir fonksiyonun minimum (veya maksimum) noktasını bulmaya çalışırken gradient (eğim) bilgisini kullanır."
   ]
  },
  {
   "cell_type": "code",
   "execution_count": 7,
   "id": "2d566a14",
   "metadata": {},
   "outputs": [],
   "source": [
    "# Simple Linerar Regression with Gradient Descent from Scratch\n",
    "\n",
    "import numpy as np\n",
    "import pandas as pd\n",
    "import matplotlib.pyplot as plt\n",
    "import seaborn as sns\n",
    "from sklearn.linear_model import LinearRegression\n",
    "from sklearn.metrics import mean_squared_error, mean_absolute_error\n",
    "from sklearn.model_selection import train_test_split, cross_val_score\n",
    "\n",
    "pd.set_option(\"display.float_format\", lambda x: \"%.2f\" % x)\n",
    "\n",
    "df = pd.read_csv(\"advertising.csv\")"
   ]
  },
  {
   "cell_type": "code",
   "execution_count": 3,
   "id": "9209a7ad",
   "metadata": {},
   "outputs": [],
   "source": [
    "# Cost Function -> MSE -->> Bir doğrusal regresyon modelinin maliyetini hesaplamak için kullanılır. \n",
    "def cost_function(Y,b,w,X):\n",
    "    m = len(Y) # Gözlem sayısı\n",
    "    sse = 0 # Hata kareler toplamı\n",
    "    for i in range(0,m):\n",
    "        y_hat = b + w * X[i] # Tahmin edilen y değerleri\n",
    "        y = Y[i] # Gerçek y değerleri\n",
    "        sse += (y_hat - y) ** 2 # Hata kareler toplamı\n",
    "    mse = sse / m # Ortalama Hata\n",
    "    return mse"
   ]
  },
  {
   "cell_type": "code",
   "execution_count": 4,
   "id": "353c4485",
   "metadata": {},
   "outputs": [],
   "source": [
    "# Update_Weights -> Bir doğrusal regresyon modelindeki y-kesişim (b) ve eğim (w) parametrelerini güncellemek için kullanılır.\n",
    "def update_weights(Y,b,w,X,learning_rate):\n",
    "    m = len(Y) # Gözlem sayısı\n",
    "    b_deriv_sum = 0\n",
    "    w_deriv_sum = 0\n",
    "    for i in range(0,m):\n",
    "        y_hat = b + w * X[i]\n",
    "        y = Y[i]\n",
    "        b_deriv_sum += (y_hat - y)\n",
    "        w_deriv_sum += (y_hat - y) * X[i]\n",
    "    new_b = b - (learning_rate * 1 / m * b_deriv_sum)   \n",
    "    new_W = w - (learning_rate * 1 / m * w_deriv_sum)\n",
    "    return new_b,new_W"
   ]
  },
  {
   "cell_type": "code",
   "execution_count": 16,
   "id": "98df530c",
   "metadata": {},
   "outputs": [],
   "source": [
    "# Train Fonskiyonu -> Bu fonksiyon, bir doğrusal regresyon modelini eğitmek için Gradient Descent algoritmasını kullanır.\n",
    "def train(Y, initial_b, initial_w, X, learning_rate, num_iters):\n",
    "    print(\"Starting gradient descent at b = {0}, w = {1}, mse = {2}\".format(initial_b,initial_w,cost_function(Y,initial_b,initial_w,X)))\n",
    "    \n",
    "    b = initial_b\n",
    "    w = initial_w\n",
    "    cost_history = []\n",
    "    \n",
    "    for i in range(num_iters):\n",
    "        b,w = update_weights(Y, b, w, X, learning_rate)\n",
    "        mse = cost_function(Y, b, w, X)\n",
    "        cost_history.append(mse)\n",
    "        \n",
    "        if i % 100 == 0:\n",
    "            print(\"iter={:d} b={:.2f} w={:.4f} mse={:.4}\".format(i, b, w, mse))\n",
    "            \n",
    "        print(\"After {0} iterations b = {1}, w = {2}, mse = {3}\".format(num_iters, b, w, cost_function(Y,b,w,X)))\n",
    "        return cost_history,b,w\n",
    "    \n",
    "# Sonuç olarak, fonksiyon, belirli sayıda iterasyon (num_iters) üzerinden Gradient Descent algoritması kullanarak\n",
    "# doğrusal regresyon modelini eğitir ve her adımda maliyetin nasıl azaldığını gösterir.    "
   ]
  },
  {
   "cell_type": "code",
   "execution_count": 17,
   "id": "0fdc759c",
   "metadata": {},
   "outputs": [],
   "source": [
    "X = df[\"Radio\"]\n",
    "Y = df[\"Sales\"]"
   ]
  },
  {
   "cell_type": "code",
   "execution_count": 18,
   "id": "04c82a68",
   "metadata": {},
   "outputs": [],
   "source": [
    "# hyperparameters -> Örnek olarak verdik\n",
    "learning_rate = 0.001\n",
    "initial_b = 0.001\n",
    "initial_w = 0.001\n",
    "num_iters = 10000"
   ]
  },
  {
   "cell_type": "code",
   "execution_count": 19,
   "id": "000846c6",
   "metadata": {},
   "outputs": [
    {
     "name": "stdout",
     "output_type": "stream",
     "text": [
      "Starting gradient descent at b = 0.001, w = 0.001, mse = 255.92392306730005\n",
      "iter=0 b=0.02 w=0.3795 mse=78.16\n",
      "After 10000 iterations b = 0.016106235999999996, w = 0.37950319670000016, mse = 78.16286235183698\n"
     ]
    },
    {
     "data": {
      "text/plain": [
       "([78.16286235183698], 0.016106235999999996, 0.37950319670000016)"
      ]
     },
     "execution_count": 19,
     "metadata": {},
     "output_type": "execute_result"
    }
   ],
   "source": [
    "train(Y, initial_b, initial_w, X, learning_rate, num_iters)"
   ]
  }
 ],
 "metadata": {
  "kernelspec": {
   "display_name": "Python 3 (ipykernel)",
   "language": "python",
   "name": "python3"
  },
  "language_info": {
   "codemirror_mode": {
    "name": "ipython",
    "version": 3
   },
   "file_extension": ".py",
   "mimetype": "text/x-python",
   "name": "python",
   "nbconvert_exporter": "python",
   "pygments_lexer": "ipython3",
   "version": "3.10.9"
  }
 },
 "nbformat": 4,
 "nbformat_minor": 5
}
